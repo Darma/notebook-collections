{
 "cells": [
  {
   "cell_type": "markdown",
   "metadata": {},
   "source": [
    "## Brief intro\n",
    "\n",
    "This notebook is a draft of the fly scripts of converting spatial locations into decimal degree and geojson format.\n",
    "\n",
    "Discover as you go through the code."
   ]
  },
  {
   "cell_type": "code",
   "execution_count": null,
   "metadata": {},
   "outputs": [],
   "source": [
    "%load_ext lab_black\n",
    "import pandas as pd\n",
    "import json"
   ]
  },
  {
   "cell_type": "markdown",
   "metadata": {},
   "source": [
    "### 1. geojson Polygon creation from string columns"
   ]
  },
  {
   "cell_type": "code",
   "execution_count": null,
   "metadata": {},
   "outputs": [],
   "source": [
    "# A cell of some custom functions\n",
    "def degree_to_decimal(input: str) -> float:\n",
    "    degree_vals = input.split()\n",
    "    assert len(degree_vals) == 3, \"Expected length is 3\"\n",
    "    num_vals = []\n",
    "    for val in degree_vals:\n",
    "        num_vals.append(get_only_numerical(val))\n",
    "    return num_vals[0] + num_vals[1] / 60 + num_vals[2] / 3600\n",
    "\n",
    "\n",
    "def get_only_numerical(input: str) -> float:\n",
    "    import re\n",
    "\n",
    "    return float(re.findall(r\"[-+]?\\d*\\.\\d+|\\d+\", input)[0])"
   ]
  },
  {
   "cell_type": "code",
   "execution_count": null,
   "metadata": {},
   "outputs": [],
   "source": [
    "# Reading the MS-Excel file\n",
    "fc_df = pd.read_excel(\"source_file.xlsx\", sheet_name=\"bag_coordinate\")\n",
    "fc_df.head()"
   ]
  },
  {
   "cell_type": "code",
   "execution_count": null,
   "metadata": {},
   "outputs": [],
   "source": [
    "discover = fc_df[\"Urgurug\"][0].split()\n",
    "print(f\"first: {discover[0]} \\nsecond: {discover[1]} \\nthird:{discover[2]} \")"
   ]
  },
  {
   "cell_type": "code",
   "execution_count": null,
   "metadata": {},
   "outputs": [],
   "source": [
    "fc_df[\"Lat\"] = fc_df[\"Urgurug\"].apply(lambda x: degree_to_decimal(x))\n",
    "fc_df[\"Long\"] = fc_df[\"Urtrag\"].apply(lambda x: degree_to_decimal(x))"
   ]
  },
  {
   "cell_type": "code",
   "execution_count": null,
   "metadata": {},
   "outputs": [],
   "source": [
    "df = fc_df[[\"Bag\", \"Lat\", \"Long\"]].copy()\n",
    "df.info()"
   ]
  },
  {
   "cell_type": "code",
   "execution_count": null,
   "metadata": {},
   "outputs": [],
   "source": [
    "df_grpd = df.groupby(by=\"Bag\")"
   ]
  },
  {
   "cell_type": "code",
   "execution_count": null,
   "metadata": {},
   "outputs": [],
   "source": [
    "features = []\n",
    "\n",
    "for name, group in df_grpd:\n",
    "    print(name)\n",
    "    raw_coordinates = []\n",
    "    for row_index, row in group.iterrows():\n",
    "        raw_coordinates.append([row[\"Long\"], row[\"Lat\"]])\n",
    "\n",
    "    features.append(\n",
    "        {\n",
    "            \"type\": \"Feature\",\n",
    "            \"geometry\": {\"type\": \"Polygon\", \"coordinates\": [raw_coordinates]},\n",
    "            \"properties\": {\"bagiin_ner\": name},\n",
    "        }\n",
    "    )"
   ]
  },
  {
   "cell_type": "code",
   "execution_count": null,
   "metadata": {},
   "outputs": [],
   "source": [
    "geojson = {\"type\": \"FeatureCollection\", \"features\": features}"
   ]
  },
  {
   "cell_type": "code",
   "execution_count": null,
   "metadata": {},
   "outputs": [],
   "source": [
    "with open(\"polygon.geojson\", \"w\", encoding=\"utf-8\") as f:\n",
    "    json.dump(geojson, f, ensure_ascii=False)"
   ]
  },
  {
   "cell_type": "markdown",
   "metadata": {},
   "source": [
    "### 2. Point creation from string and seperate columns"
   ]
  },
  {
   "cell_type": "code",
   "execution_count": null,
   "metadata": {},
   "outputs": [],
   "source": [
    "clean_df = pd.read_excel(\"hudag.xlsx\", index_col=False)\n",
    "clean_df.info()"
   ]
  },
  {
   "cell_type": "code",
   "execution_count": null,
   "metadata": {},
   "outputs": [],
   "source": [
    "features = []\n",
    "for row_ind, row in clean_df.iterrows():\n",
    "    bag_ner = \" \".join(row[\"bagiin_ner\"].split())\n",
    "    nname = row[\"bairshil_hudgiin_ner\"]\n",
    "    ezemshigch = row[\"ezemshig_ashiglagch\"]\n",
    "\n",
    "    features.append(\n",
    "        {\n",
    "            \"type\": \"Feature\",\n",
    "            \"geometry\": {\"type\": \"Point\", \"coordinates\": [row[\"Long\"], row[\"Lat\"]]},\n",
    "            \"properties\": {\n",
    "                \"bagiin_ner\": bag_ner,\n",
    "                \"name\": nname,\n",
    "                \"ezemshigch\": ezemshigch\n",
    "            },\n",
    "        }\n",
    "    )"
   ]
  },
  {
   "cell_type": "code",
   "execution_count": null,
   "metadata": {},
   "outputs": [],
   "source": [
    "hudag_geojson = {\"type\": \"FeatureCollection\", \"features\": features}"
   ]
  },
  {
   "cell_type": "code",
   "execution_count": null,
   "metadata": {},
   "outputs": [],
   "source": [
    "with open(\"hudag.geojson\", \"w\", encoding=\"utf-8\") as f:\n",
    "    json.dump(hudag_geojson, f, ensure_ascii=False)"
   ]
  },
  {
   "cell_type": "markdown",
   "metadata": {},
   "source": [
    "### 3. Point and polygon creation from string and seperate columns"
   ]
  },
  {
   "cell_type": "code",
   "execution_count": null,
   "metadata": {},
   "outputs": [],
   "source": [
    "fc_df = pd.read_excel(\"source_file.xlsx\", sheet_name=\"rashaan\")\n",
    "fc_df.info()"
   ]
  },
  {
   "cell_type": "code",
   "execution_count": null,
   "metadata": {},
   "outputs": [],
   "source": [
    "fc_df[\"Lat\"] = fc_df[\"Xd\"] + (fc_df[\"Xm\"] / 60) + (fc_df[\"Xs\"] / 3600)\n",
    "fc_df[\"Long\"] = fc_df[\"Yd\"] + (fc_df[\"Ym\"] / 60) + (fc_df[\"Ys\"] / 3600)"
   ]
  },
  {
   "cell_type": "code",
   "execution_count": null,
   "metadata": {},
   "outputs": [],
   "source": [
    "fc_df.columns = [\n",
    "    \"dd\",\n",
    "    \"rashaanii_ner\",\n",
    "    \"bag\",\n",
    "    \"ezemshil\",\n",
    "    \"Xd\",\n",
    "    \"Xm\",\n",
    "    \"Xs\",\n",
    "    \"Yd\",\n",
    "    \"Ym\",\n",
    "    \"Ys\",\n",
    "    \"H\",\n",
    "    \"zoriulalt\",\n",
    "    \"hamgaalalt\",\n",
    "    \"hamgaalaltiin_turul\",\n",
    "    \"hereglee\",\n",
    "    \"tailbar\",\n",
    "    \"Lat\",\n",
    "    \"Long\",\n",
    "]"
   ]
  },
  {
   "cell_type": "code",
   "execution_count": null,
   "metadata": {},
   "outputs": [],
   "source": [
    "fc_grpd = fc_df.groupby(\"rashaanii_ner\")"
   ]
  },
  {
   "cell_type": "code",
   "execution_count": null,
   "metadata": {},
   "outputs": [],
   "source": [
    "points = []\n",
    "polygons = []\n",
    "\n",
    "point_features = []\n",
    "polygon_features = []\n",
    "\n",
    "for name, grp in fc_grpd:\n",
    "    if len(grp) == 1:\n",
    "        points.append(grp)\n",
    "\n",
    "        for row_ind, row in grp.iterrows():\n",
    "            bag_ner = row[\"bag\"]\n",
    "            nname = row[\"rashaanii_ner\"]\n",
    "            ezemshigch = row[\"ezemshil\"]\n",
    "\n",
    "            point_features.append(\n",
    "                {\n",
    "                    \"type\": \"Feature\",\n",
    "                    \"geometry\": {\n",
    "                        \"type\": \"Point\",\n",
    "                        \"coordinates\": [row[\"Long\"], row[\"Lat\"]],\n",
    "                    },\n",
    "                    \"properties\": {\n",
    "                        \"bagiin_ner\": bag_ner,\n",
    "                        \"name\": nname,\n",
    "                        \"ezemshigch\": ezemshigch,\n",
    "                    },\n",
    "                }\n",
    "            )\n",
    "    else:\n",
    "        polygons.append(grp)\n",
    "        raw_coordinates = []\n",
    "        for row_index, row in grp.iterrows():\n",
    "\n",
    "            bag_ner = row[\"bag\"]\n",
    "            nname = row[\"rashaanii_ner\"]\n",
    "            ezemshigch = row[\"ezemshil\"]\n",
    "            raw_coordinates.append([row[\"Long\"], row[\"Lat\"]])\n",
    "\n",
    "        polygon_features.append(\n",
    "            {\n",
    "                \"type\": \"Feature\",\n",
    "                \"geometry\": {\"type\": \"Polygon\", \"coordinates\": [raw_coordinates]},\n",
    "                \"properties\": {\n",
    "                    \"bagiin_ner\": bag_ner,\n",
    "                    \"name\": nname,\n",
    "                    \"ezemshigch\": ezemshigch,\n",
    "                },\n",
    "            }\n",
    "        )"
   ]
  },
  {
   "cell_type": "code",
   "execution_count": null,
   "metadata": {},
   "outputs": [],
   "source": [
    "pd.concat(points).reset_index(drop=True).to_csv(\n",
    "    \"rashaan_points.csv\", encoding=\"utf-8\", index=False\n",
    ")"
   ]
  },
  {
   "cell_type": "code",
   "execution_count": null,
   "metadata": {},
   "outputs": [],
   "source": [
    "point_geojson = {\"type\": \"FeatureCollection\", \"features\": point_features}\n",
    "\n",
    "polygon_geojson = {\"type\": \"FeatureCollection\", \"features\": polygon_features}"
   ]
  },
  {
   "cell_type": "code",
   "execution_count": null,
   "metadata": {},
   "outputs": [],
   "source": [
    "with open(\"rashaan_point.geojson\", \"w\", encoding=\"utf-8\") as f:\n",
    "    json.dump(point_geojson, f, ensure_ascii=False)\n",
    "\n",
    "with open(\"rashaan_polygon.geojson\", \"w\", encoding=\"utf-8\") as f:\n",
    "    json.dump(polygon_geojson, f, ensure_ascii=False)"
   ]
  },
  {
   "cell_type": "markdown",
   "metadata": {},
   "source": [
    "### 4. Point and polygon creation from string and seperate columns(different sheet)"
   ]
  },
  {
   "cell_type": "code",
   "execution_count": null,
   "metadata": {},
   "outputs": [],
   "source": [
    "fc_df = pd.read_excel(\"source_file.xlsx\", sheet_name=\"bulag\")\n",
    "fc_df.info()"
   ]
  },
  {
   "cell_type": "code",
   "execution_count": null,
   "metadata": {},
   "outputs": [],
   "source": [
    "fc_df[\"Lat\"] = fc_df[\"Xd\"] + (fc_df[\"Xm\"] / 60) + (fc_df[\"Xs\"] / 3600)\n",
    "fc_df[\"Long\"] = fc_df[\"Yd\"] + (fc_df[\"Ym\"] / 60) + (fc_df[\"Ys\"] / 3600)"
   ]
  },
  {
   "cell_type": "code",
   "execution_count": null,
   "metadata": {},
   "outputs": [],
   "source": [
    "fc_df.columns = [\n",
    "    \"dd\",\n",
    "    \"bulgiin_ner\",\n",
    "    \"bagiin_ner\",\n",
    "    \"ezemshil\",\n",
    "    \"Xd\",\n",
    "    \"Xm\",\n",
    "    \"Xs\",\n",
    "    \"Yd\",\n",
    "    \"Ym\",\n",
    "    \"Ys\",\n",
    "    \"H\",\n",
    "    \"zoriulalt\",\n",
    "    \"hamgaalalt\",\n",
    "    \"hashlagiin_turul_hiits\",\n",
    "    \"bulgiin_gorim\",\n",
    "    \"bulgiin_turul\",\n",
    "    \"bulgiin_undarga\",\n",
    "    \"tailbar\",\n",
    "    \"Lat\",\n",
    "    \"Long\",\n",
    "]"
   ]
  },
  {
   "cell_type": "code",
   "execution_count": null,
   "metadata": {},
   "outputs": [],
   "source": [
    "fc_grpd = fc_df.groupby(\"bulgiin_ner\")"
   ]
  },
  {
   "cell_type": "code",
   "execution_count": null,
   "metadata": {},
   "outputs": [],
   "source": [
    "points = []\n",
    "polygons = []\n",
    "\n",
    "point_features = []\n",
    "polygon_features = []\n",
    "\n",
    "for name, grp in fc_grpd:\n",
    "    if len(grp) == 1:\n",
    "        points.append(grp)\n",
    "\n",
    "        for row_ind, row in grp.iterrows():\n",
    "            bag_ner = row[\"bagiin_ner\"]\n",
    "            nname = row[\"bulgiin_ner\"]\n",
    "            ezemshigch = row[\"ezemshil\"]\n",
    "            zoriulalt = row[\"zoriulalt\"]\n",
    "            hamgaalalt = row[\"hamgaalalt\"]\n",
    "            hashlaga = row[\"hashlagiin_turul_hiits\"]\n",
    "            bulag_gorim = row[\"bulgiin_gorim\"]\n",
    "            bulag_turul = row[\"bulgiin_turul\"]\n",
    "            bulag_undarga = row[\"bulgiin_undarga\"]\n",
    "            tailbar = row[\"tailbar\"]\n",
    "\n",
    "            point_features.append(\n",
    "                {\n",
    "                    \"type\": \"Feature\",\n",
    "                    \"geometry\": {\n",
    "                        \"type\": \"Point\",\n",
    "                        \"coordinates\": [row[\"Long\"], row[\"Lat\"]],\n",
    "                    },\n",
    "                    \"properties\": {\n",
    "                        \"bagiin_ner\": bag_ner,\n",
    "                        \"name\": nname,\n",
    "                        \"ezemshigch\": ezemshigch,\n",
    "                        \"zoriulal\": zoriulalt,\n",
    "                        \"hamgaalalt\": hamgaalalt,\n",
    "                        \"hashlaga\": hashlaga,\n",
    "                        \"bulgiin_gorim\": bulag_gorim,\n",
    "                        \"bulgiin_turul\": bulag_turul,\n",
    "                        \"bulgiin_undarga\": bulag_undarga,\n",
    "                        \"tailbar\": tailbar,\n",
    "                    },\n",
    "                }\n",
    "            )\n",
    "    else:\n",
    "        polygons.append(grp)\n",
    "        raw_coordinates = []\n",
    "        for row_index, row in grp.iterrows():\n",
    "\n",
    "            bag_ner = row[\"bagiin_ner\"]\n",
    "            nname = row[\"bulgiin_ner\"]\n",
    "            ezemshigch = row[\"ezemshil\"]\n",
    "\n",
    "            zoriulalt = row[\"zoriulalt\"]\n",
    "            hamgaalalt = row[\"hamgaalalt\"]\n",
    "            hashlaga = row[\"hashlagiin_turul_hiits\"]\n",
    "            bulag_gorim = row[\"bulgiin_gorim\"]\n",
    "            bulag_turul = row[\"bulgiin_turul\"]\n",
    "            bulag_undarga = row[\"bulgiin_undarga\"]\n",
    "            tailbar = row[\"tailbar\"]\n",
    "\n",
    "            raw_coordinates.append([row[\"Long\"], row[\"Lat\"]])\n",
    "\n",
    "        polygon_features.append(\n",
    "            {\n",
    "                \"type\": \"Feature\",\n",
    "                \"geometry\": {\"type\": \"Polygon\", \"coordinates\": [raw_coordinates]},\n",
    "                \"properties\": {\n",
    "                    \"bagiin_ner\": bag_ner,\n",
    "                    \"name\": nname,\n",
    "                    \"ezemshigch\": ezemshigch,\n",
    "                    \"zoriulal\": zoriulalt,\n",
    "                    \"hamgaalalt\": hamgaalalt,\n",
    "                    \"hashlaga\": hashlaga,\n",
    "                    \"bulgiin_gorim\": bulag_gorim,\n",
    "                    \"bulgiin_turul\": bulag_turul,\n",
    "                    \"bulgiin_undarga\": bulag_undarga,\n",
    "                    \"tailbar\": tailbar,\n",
    "                },\n",
    "            }\n",
    "        )"
   ]
  },
  {
   "cell_type": "code",
   "execution_count": null,
   "metadata": {},
   "outputs": [],
   "source": [
    "pd.concat(points).reset_index(drop=True).to_csv(\n",
    "    \"bulag_points.csv\", encoding=\"utf-8\", index=False\n",
    ")"
   ]
  },
  {
   "cell_type": "code",
   "execution_count": null,
   "metadata": {},
   "outputs": [],
   "source": [
    "bulag_point_geojson = {\"type\": \"FeatureCollection\", \"features\": point_features}\n",
    "\n",
    "bulag_polygon_geojson = {\"type\": \"FeatureCollection\", \"features\": polygon_features}"
   ]
  },
  {
   "cell_type": "code",
   "execution_count": null,
   "metadata": {},
   "outputs": [],
   "source": [
    "with open(\"bulag_point.geojson\", \"w\", encoding=\"utf-8\") as f:\n",
    "    json.dump(bulag_point_geojson, f, ensure_ascii=False)\n",
    "\n",
    "with open(\"bulag_polygon.geojson\", \"w\", encoding=\"utf-8\") as f:\n",
    "    json.dump(bulag_polygon_geojson, f, ensure_ascii=False)"
   ]
  },
  {
   "cell_type": "markdown",
   "metadata": {},
   "source": [
    "### 5. Polygon creation from string and seperate columns(different sheet)"
   ]
  },
  {
   "cell_type": "code",
   "execution_count": null,
   "metadata": {},
   "outputs": [],
   "source": [
    "fc_df = pd.read_excel(\"source_file.xlsx\", sheet_name=\"gol\")\n",
    "fc_df.info()"
   ]
  },
  {
   "cell_type": "code",
   "execution_count": null,
   "metadata": {},
   "outputs": [],
   "source": [
    "fc_df[\"Lat\"] = fc_df[\"Xd\"] + (fc_df[\"Xm\"] / 60) + (fc_df[\"Xs\"] / 3600)\n",
    "fc_df[\"Long\"] = fc_df[\"Yd\"] + (fc_df[\"Ym\"] / 60) + (fc_df[\"Ys\"] / 3600)"
   ]
  },
  {
   "cell_type": "code",
   "execution_count": null,
   "metadata": {},
   "outputs": [],
   "source": [
    "fc_df.columns = [\n",
    "    \"dd\",\n",
    "    \"goliin_ner\",\n",
    "    \"bairshil\",\n",
    "    \"Xd\",\n",
    "    \"Xm\",\n",
    "    \"Xs\",\n",
    "    \"Yd\",\n",
    "    \"Ym\",\n",
    "    \"Ys\",\n",
    "    \"H\",\n",
    "    \"ashiglalt_heregleenii_medeelel\",\n",
    "    \"ariun_tsever_hamgaalalt\",\n",
    "    \"goliin_tejeellin_gorim\",\n",
    "    \"goliin_tsudgadag_gol_murun_nuuriin_ner\",\n",
    "    \"goliin_gorim\",\n",
    "    \"tailbar\",\n",
    "    \"Lat\",\n",
    "    \"Long\",\n",
    "]"
   ]
  },
  {
   "cell_type": "code",
   "execution_count": null,
   "metadata": {},
   "outputs": [],
   "source": [
    "fc_grpd = fc_df.groupby(\"goliin_ner\")"
   ]
  },
  {
   "cell_type": "code",
   "execution_count": null,
   "metadata": {},
   "outputs": [],
   "source": [
    "points = []\n",
    "polygons = []\n",
    "\n",
    "point_features = []\n",
    "polygon_features = []\n",
    "\n",
    "for name, grp in fc_grpd:\n",
    "    if len(grp) == 1:\n",
    "        points.append(grp)\n",
    "\n",
    "        for row_ind, row in grp.iterrows():\n",
    "            nname = row[\"goliin_ner\"]\n",
    "            bairshil = row[\"bairshil\"]\n",
    "            hereglee = row[\"ashiglalt_heregleenii_medeelel\"]\n",
    "            hamgaalalt = row[\"ariun_tsever_hamgaalalt\"]\n",
    "            # hashlaga = row[\"hashlagiin_turul_hiits\"]\n",
    "            tejeeliin_gorim = row[\"goliin_tejeellin_gorim\"]\n",
    "            gol_tsutgal = row[\"goliin_tsudgadag_gol_murun_nuuriin_ner\"]\n",
    "            goliin_gorim = row[\"goliin_gorim\"]\n",
    "            tailbar = row[\"tailbar\"]\n",
    "\n",
    "            point_features.append(\n",
    "                {\n",
    "                    \"type\": \"Feature\",\n",
    "                    \"geometry\": {\n",
    "                        \"type\": \"Point\",\n",
    "                        \"coordinates\": [row[\"Long\"], row[\"Lat\"]],\n",
    "                    },\n",
    "                    \"properties\": {\n",
    "                        \"name\": nname,\n",
    "                        \"bairshil\": bairshil,\n",
    "                        \"hereglee\": hereglee,\n",
    "                        \"hamgaalalt\": hamgaalalt,\n",
    "                        # \"hashlaga\": hashlaga,\n",
    "                        \"tejeeliin_gorim\": tejeeliin_gorim,\n",
    "                        \"gol_tsutgal\": gol_tsutgal,\n",
    "                        \"goliin_gorim\": goliin_gorim,\n",
    "                        \"tailbar\": tailbar,\n",
    "                    },\n",
    "                }\n",
    "            )\n",
    "    else:\n",
    "        polygons.append(grp)\n",
    "        raw_coordinates = []\n",
    "        for row_index, row in grp.iterrows():\n",
    "\n",
    "            nname = row[\"goliin_ner\"]\n",
    "            bairshil = row[\"bairshil\"]\n",
    "            hereglee = row[\"ashiglalt_heregleenii_medeelel\"]\n",
    "            hamgaalalt = row[\"ariun_tsever_hamgaalalt\"]\n",
    "            # hashlaga = row[\"hashlagiin_turul_hiits\"]\n",
    "            tejeeliin_gorim = row[\"goliin_tejeellin_gorim\"]\n",
    "            gol_tsutgal = row[\"goliin_tsudgadag_gol_murun_nuuriin_ner\"]\n",
    "            goliin_gorim = row[\"goliin_gorim\"]\n",
    "            tailbar = row[\"tailbar\"]\n",
    "\n",
    "            raw_coordinates.append([row[\"Long\"], row[\"Lat\"]])\n",
    "\n",
    "        polygon_features.append(\n",
    "            {\n",
    "                \"type\": \"Feature\",\n",
    "                \"geometry\": {\"type\": \"Polygon\", \"coordinates\": [raw_coordinates]},\n",
    "                \"properties\": {\n",
    "                    \"name\": nname,\n",
    "                    \"bairshil\": bairshil,\n",
    "                    \"hereglee\": hereglee,\n",
    "                    \"hamgaalalt\": hamgaalalt,\n",
    "                    # \"hashlaga\": hashlaga,\n",
    "                    \"tejeeliin_gorim\": tejeeliin_gorim,\n",
    "                    \"gol_tsutgal\": gol_tsutgal,\n",
    "                    \"goliin_gorim\": goliin_gorim,\n",
    "                    \"tailbar\": tailbar,\n",
    "                },\n",
    "            }\n",
    "        )"
   ]
  },
  {
   "cell_type": "code",
   "execution_count": null,
   "metadata": {},
   "outputs": [],
   "source": [
    "gol_point_geojson = {\"type\": \"FeatureCollection\", \"features\": point_features}\n",
    "\n",
    "gol_polygon_geojson = {\"type\": \"FeatureCollection\", \"features\": polygon_features}"
   ]
  },
  {
   "cell_type": "code",
   "execution_count": null,
   "metadata": {},
   "outputs": [],
   "source": [
    "with open(\"gol_point.geojson\", \"w\", encoding=\"utf-8\") as f:\n",
    "    json.dump(gol_point_geojson, f, ensure_ascii=False)\n",
    "\n",
    "with open(\"gol_polygon.geojson\", \"w\", encoding=\"utf-8\") as f:\n",
    "    json.dump(gol_polygon_geojson, f, ensure_ascii=False)"
   ]
  },
  {
   "cell_type": "code",
   "execution_count": null,
   "metadata": {},
   "outputs": [],
   "source": []
  }
 ],
 "metadata": {
  "interpreter": {
   "hash": "931a019493431a94dd3a5be5d06b29caf3bb2aea8d1a56d781668d8809ea5201"
  },
  "kernelspec": {
   "display_name": "Python 3.9.6 64-bit ('soe': conda)",
   "language": "python",
   "name": "python3"
  },
  "language_info": {
   "codemirror_mode": {
    "name": "ipython",
    "version": 3
   },
   "file_extension": ".py",
   "mimetype": "text/x-python",
   "name": "python",
   "nbconvert_exporter": "python",
   "pygments_lexer": "ipython3",
   "version": "3.9.6"
  },
  "orig_nbformat": 4
 },
 "nbformat": 4,
 "nbformat_minor": 2
}
