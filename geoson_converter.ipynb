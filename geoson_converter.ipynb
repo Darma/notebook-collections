{
 "cells": [
  {
   "cell_type": "markdown",
   "metadata": {},
   "source": [
    "## Brief intro\n",
    "\n",
    "This notebook is a draft of the fly scripts of converting spatial locations into decimal degree and geojson format.\n",
    "\n",
    "Discover as you go through the code."
   ]
  },
  {
   "cell_type": "code",
   "execution_count": 137,
   "metadata": {},
   "outputs": [
    {
     "name": "stdout",
     "output_type": "stream",
     "text": [
      "The nb_black extension is already loaded. To reload it, use:\n",
      "  %reload_ext nb_black\n"
     ]
    },
    {
     "data": {
      "application/javascript": "\n            setTimeout(function() {\n                var nbb_cell_id = 137;\n                var nbb_unformatted_code = \"%load_ext nb_black\\n%reload_ext nb_black\\nimport pandas as pd\\nimport json\";\n                var nbb_formatted_code = \"%load_ext nb_black\\n%reload_ext nb_black\\nimport pandas as pd\\nimport json\";\n                var nbb_cells = Jupyter.notebook.get_cells();\n                for (var i = 0; i < nbb_cells.length; ++i) {\n                    if (nbb_cells[i].input_prompt_number == nbb_cell_id) {\n                        if (nbb_cells[i].get_text() == nbb_unformatted_code) {\n                             nbb_cells[i].set_text(nbb_formatted_code);\n                        }\n                        break;\n                    }\n                }\n            }, 500);\n            ",
      "text/plain": [
       "<IPython.core.display.Javascript object>"
      ]
     },
     "metadata": {},
     "output_type": "display_data"
    },
    {
     "data": {
      "application/javascript": "\n            setTimeout(function() {\n                var nbb_cell_id = 137;\n                var nbb_unformatted_code = \"%load_ext nb_black\\n%reload_ext nb_black\\nimport pandas as pd\\nimport json\";\n                var nbb_formatted_code = \"%load_ext nb_black\\n%reload_ext nb_black\\nimport pandas as pd\\nimport json\";\n                var nbb_cells = Jupyter.notebook.get_cells();\n                for (var i = 0; i < nbb_cells.length; ++i) {\n                    if (nbb_cells[i].input_prompt_number == nbb_cell_id) {\n                        if (nbb_cells[i].get_text() == nbb_unformatted_code) {\n                             nbb_cells[i].set_text(nbb_formatted_code);\n                        }\n                        break;\n                    }\n                }\n            }, 500);\n            ",
      "text/plain": [
       "<IPython.core.display.Javascript object>"
      ]
     },
     "metadata": {},
     "output_type": "display_data"
    }
   ],
   "source": [
    "%load_ext nb_black\n",
    "import pandas as pd\n",
    "import json"
   ]
  },
  {
   "cell_type": "markdown",
   "metadata": {},
   "source": [
    "### 1. geojson Polygon creation from string columns"
   ]
  },
  {
   "cell_type": "code",
   "execution_count": 108,
   "metadata": {},
   "outputs": [
    {
     "data": {
      "application/javascript": "\n            setTimeout(function() {\n                var nbb_cell_id = 108;\n                var nbb_unformatted_code = \"# A cell of some custom functions\\ndef degree_to_decimal(input:str)->float:\\n    degree_vals = input.split()\\n    assert len(degree_vals) == 3, \\\"Expected length is 3\\\"\\n    num_vals=[]\\n    for val in degree_vals:\\n        num_vals.append(get_only_numerical(val))\\n\\n    return num_vals[0]+num_vals[1]/60 + num_vals[2]/3600\\n\\ndef get_only_numerical(input:str)->float:\\n    import re\\n    return float(re.findall(r\\\"[-+]?\\\\d*\\\\.\\\\d+|\\\\d+\\\",input)[0])\";\n                var nbb_formatted_code = \"# A cell of some custom functions\\ndef degree_to_decimal(input: str) -> float:\\n    degree_vals = input.split()\\n    assert len(degree_vals) == 3, \\\"Expected length is 3\\\"\\n    num_vals = []\\n    for val in degree_vals:\\n        num_vals.append(get_only_numerical(val))\\n\\n    return num_vals[0] + num_vals[1] / 60 + num_vals[2] / 3600\\n\\n\\ndef get_only_numerical(input: str) -> float:\\n    import re\\n\\n    return float(re.findall(r\\\"[-+]?\\\\d*\\\\.\\\\d+|\\\\d+\\\", input)[0])\";\n                var nbb_cells = Jupyter.notebook.get_cells();\n                for (var i = 0; i < nbb_cells.length; ++i) {\n                    if (nbb_cells[i].input_prompt_number == nbb_cell_id) {\n                        if (nbb_cells[i].get_text() == nbb_unformatted_code) {\n                             nbb_cells[i].set_text(nbb_formatted_code);\n                        }\n                        break;\n                    }\n                }\n            }, 500);\n            ",
      "text/plain": [
       "<IPython.core.display.Javascript object>"
      ]
     },
     "metadata": {},
     "output_type": "display_data"
    }
   ],
   "source": [
    "# A cell of some custom functions\n",
    "def degree_to_decimal(input:str)->float:\n",
    "    degree_vals = input.split()\n",
    "    assert len(degree_vals) == 3, \"Expected length is 3\"\n",
    "    num_vals=[]\n",
    "    for val in degree_vals:\n",
    "        num_vals.append(get_only_numerical(val))\n",
    "\n",
    "    return num_vals[0]+num_vals[1]/60 + num_vals[2]/3600\n",
    "\n",
    "def get_only_numerical(input:str)->float:\n",
    "    import re\n",
    "    return float(re.findall(r\"[-+]?\\d*\\.\\d+|\\d+\",input)[0])"
   ]
  },
  {
   "cell_type": "code",
   "execution_count": null,
   "metadata": {},
   "outputs": [],
   "source": [
    "# Reading the MS-Excel file\n",
    "fc_df = pd.read_excel(\"source_file.xlsx\", sheet_name=\"bag_coordinate\")\n",
    "fc_df.head()"
   ]
  },
  {
   "cell_type": "code",
   "execution_count": 110,
   "metadata": {},
   "outputs": [
    {
     "name": "stdout",
     "output_type": "stream",
     "text": [
      "first: 46° \n",
      "second: 08' \n",
      "third:12.0\" \n"
     ]
    },
    {
     "data": {
      "application/javascript": "\n            setTimeout(function() {\n                var nbb_cell_id = 110;\n                var nbb_unformatted_code = \"discover = fc_df[\\\"Urgurug\\\"][0].split()\\nprint(f'first: {discover[0]} \\\\nsecond: {discover[1]} \\\\nthird:{discover[2]} ')\";\n                var nbb_formatted_code = \"discover = fc_df[\\\"Urgurug\\\"][0].split()\\nprint(f\\\"first: {discover[0]} \\\\nsecond: {discover[1]} \\\\nthird:{discover[2]} \\\")\";\n                var nbb_cells = Jupyter.notebook.get_cells();\n                for (var i = 0; i < nbb_cells.length; ++i) {\n                    if (nbb_cells[i].input_prompt_number == nbb_cell_id) {\n                        if (nbb_cells[i].get_text() == nbb_unformatted_code) {\n                             nbb_cells[i].set_text(nbb_formatted_code);\n                        }\n                        break;\n                    }\n                }\n            }, 500);\n            ",
      "text/plain": [
       "<IPython.core.display.Javascript object>"
      ]
     },
     "metadata": {},
     "output_type": "display_data"
    }
   ],
   "source": [
    "discover = fc_df[\"Urgurug\"][0].split()\n",
    "print(f'first: {discover[0]} \\nsecond: {discover[1]} \\nthird:{discover[2]} ')"
   ]
  },
  {
   "cell_type": "code",
   "execution_count": 116,
   "metadata": {},
   "outputs": [
    {
     "data": {
      "application/javascript": "\n            setTimeout(function() {\n                var nbb_cell_id = 116;\n                var nbb_unformatted_code = \"fc_df[\\\"Lat\\\"] = fc_df[\\\"Urgurug\\\"].apply(lambda x : degree_to_decimal(x))\\nfc_df[\\\"Long\\\"] = fc_df[\\\"Urtrag\\\"].apply(lambda x : degree_to_decimal(x))\";\n                var nbb_formatted_code = \"fc_df[\\\"Lat\\\"] = fc_df[\\\"Urgurug\\\"].apply(lambda x: degree_to_decimal(x))\\nfc_df[\\\"Long\\\"] = fc_df[\\\"Urtrag\\\"].apply(lambda x: degree_to_decimal(x))\";\n                var nbb_cells = Jupyter.notebook.get_cells();\n                for (var i = 0; i < nbb_cells.length; ++i) {\n                    if (nbb_cells[i].input_prompt_number == nbb_cell_id) {\n                        if (nbb_cells[i].get_text() == nbb_unformatted_code) {\n                             nbb_cells[i].set_text(nbb_formatted_code);\n                        }\n                        break;\n                    }\n                }\n            }, 500);\n            ",
      "text/plain": [
       "<IPython.core.display.Javascript object>"
      ]
     },
     "metadata": {},
     "output_type": "display_data"
    }
   ],
   "source": [
    "fc_df[\"Lat\"] = fc_df[\"Urgurug\"].apply(lambda x : degree_to_decimal(x))\n",
    "fc_df[\"Long\"] = fc_df[\"Urtrag\"].apply(lambda x : degree_to_decimal(x))"
   ]
  },
  {
   "cell_type": "code",
   "execution_count": 117,
   "metadata": {},
   "outputs": [
    {
     "name": "stdout",
     "output_type": "stream",
     "text": [
      "<class 'pandas.core.frame.DataFrame'>\n",
      "RangeIndex: 107 entries, 0 to 106\n",
      "Data columns (total 3 columns):\n",
      " #   Column  Non-Null Count  Dtype  \n",
      "---  ------  --------------  -----  \n",
      " 0   Bag     107 non-null    object \n",
      " 1   Lat     107 non-null    float64\n",
      " 2   Long    107 non-null    float64\n",
      "dtypes: float64(2), object(1)\n",
      "memory usage: 2.6+ KB\n"
     ]
    },
    {
     "data": {
      "application/javascript": "\n            setTimeout(function() {\n                var nbb_cell_id = 117;\n                var nbb_unformatted_code = \"df = fc_df[[\\\"Bag\\\", \\\"Lat\\\", \\\"Long\\\"]].copy()\\ndf.info()\";\n                var nbb_formatted_code = \"df = fc_df[[\\\"Bag\\\", \\\"Lat\\\", \\\"Long\\\"]].copy()\\ndf.info()\";\n                var nbb_cells = Jupyter.notebook.get_cells();\n                for (var i = 0; i < nbb_cells.length; ++i) {\n                    if (nbb_cells[i].input_prompt_number == nbb_cell_id) {\n                        if (nbb_cells[i].get_text() == nbb_unformatted_code) {\n                             nbb_cells[i].set_text(nbb_formatted_code);\n                        }\n                        break;\n                    }\n                }\n            }, 500);\n            ",
      "text/plain": [
       "<IPython.core.display.Javascript object>"
      ]
     },
     "metadata": {},
     "output_type": "display_data"
    }
   ],
   "source": [
    "df = fc_df[[\"Bag\", \"Lat\", \"Long\"]].copy()\n",
    "df.info()"
   ]
  },
  {
   "cell_type": "code",
   "execution_count": 118,
   "metadata": {},
   "outputs": [
    {
     "data": {
      "application/javascript": "\n            setTimeout(function() {\n                var nbb_cell_id = 118;\n                var nbb_unformatted_code = \"df_grpd = df.groupby(by=\\\"Bag\\\")\";\n                var nbb_formatted_code = \"df_grpd = df.groupby(by=\\\"Bag\\\")\";\n                var nbb_cells = Jupyter.notebook.get_cells();\n                for (var i = 0; i < nbb_cells.length; ++i) {\n                    if (nbb_cells[i].input_prompt_number == nbb_cell_id) {\n                        if (nbb_cells[i].get_text() == nbb_unformatted_code) {\n                             nbb_cells[i].set_text(nbb_formatted_code);\n                        }\n                        break;\n                    }\n                }\n            }, 500);\n            ",
      "text/plain": [
       "<IPython.core.display.Javascript object>"
      ]
     },
     "metadata": {},
     "output_type": "display_data"
    }
   ],
   "source": [
    "df_grpd = df.groupby(by=\"Bag\")"
   ]
  },
  {
   "cell_type": "code",
   "execution_count": null,
   "metadata": {},
   "outputs": [],
   "source": [
    "features = []\n",
    "\n",
    "for name, group in df_grpd:\n",
    "    print(name)\n",
    "    raw_coordinates = []\n",
    "    for row_index, row in group.iterrows():\n",
    "        raw_coordinates.append([row[\"Long\"], row[\"Lat\"]])\n",
    "\n",
    "    features.append(\n",
    "        {\n",
    "            \"type\": \"Feature\",\n",
    "            \"geometry\": {\n",
    "                \"type\": \"Polygon\",\n",
    "                \"coordinates\": [raw_coordinates]\n",
    "            },\n",
    "            \"properties\": {\n",
    "                \"bagiin_ner\": name\n",
    "            }\n",
    "        }\n",
    "    )"
   ]
  },
  {
   "cell_type": "code",
   "execution_count": 142,
   "metadata": {},
   "outputs": [
    {
     "data": {
      "application/javascript": "\n            setTimeout(function() {\n                var nbb_cell_id = 142;\n                var nbb_unformatted_code = \"geojson = \\\\\\n{\\n    \\\"type\\\": \\\"FeatureCollection\\\", \\n    \\\"features\\\": features\\n}\";\n                var nbb_formatted_code = \"geojson = {\\\"type\\\": \\\"FeatureCollection\\\", \\\"features\\\": features}\";\n                var nbb_cells = Jupyter.notebook.get_cells();\n                for (var i = 0; i < nbb_cells.length; ++i) {\n                    if (nbb_cells[i].input_prompt_number == nbb_cell_id) {\n                        if (nbb_cells[i].get_text() == nbb_unformatted_code) {\n                             nbb_cells[i].set_text(nbb_formatted_code);\n                        }\n                        break;\n                    }\n                }\n            }, 500);\n            ",
      "text/plain": [
       "<IPython.core.display.Javascript object>"
      ]
     },
     "metadata": {},
     "output_type": "display_data"
    },
    {
     "data": {
      "application/javascript": "\n            setTimeout(function() {\n                var nbb_cell_id = 142;\n                var nbb_unformatted_code = \"geojson = \\\\\\n{\\n    \\\"type\\\": \\\"FeatureCollection\\\", \\n    \\\"features\\\": features\\n}\";\n                var nbb_formatted_code = \"geojson = {\\\"type\\\": \\\"FeatureCollection\\\", \\\"features\\\": features}\";\n                var nbb_cells = Jupyter.notebook.get_cells();\n                for (var i = 0; i < nbb_cells.length; ++i) {\n                    if (nbb_cells[i].input_prompt_number == nbb_cell_id) {\n                        if (nbb_cells[i].get_text() == nbb_unformatted_code) {\n                             nbb_cells[i].set_text(nbb_formatted_code);\n                        }\n                        break;\n                    }\n                }\n            }, 500);\n            ",
      "text/plain": [
       "<IPython.core.display.Javascript object>"
      ]
     },
     "metadata": {},
     "output_type": "display_data"
    }
   ],
   "source": [
    "geojson = \\\n",
    "{\n",
    "    \"type\": \"FeatureCollection\", \n",
    "    \"features\": features\n",
    "}"
   ]
  },
  {
   "cell_type": "code",
   "execution_count": 121,
   "metadata": {},
   "outputs": [
    {
     "data": {
      "application/javascript": "\n            setTimeout(function() {\n                var nbb_cell_id = 121;\n                var nbb_unformatted_code = \"with open(\\\"polygon.geojson\\\", 'w', encoding='utf-8') as f:\\n    json.dump(geojson, f, ensure_ascii=False)\";\n                var nbb_formatted_code = \"with open(\\\"polygon.geojson\\\", \\\"w\\\", encoding=\\\"utf-8\\\") as f:\\n    json.dump(geojson, f, ensure_ascii=False)\";\n                var nbb_cells = Jupyter.notebook.get_cells();\n                for (var i = 0; i < nbb_cells.length; ++i) {\n                    if (nbb_cells[i].input_prompt_number == nbb_cell_id) {\n                        if (nbb_cells[i].get_text() == nbb_unformatted_code) {\n                             nbb_cells[i].set_text(nbb_formatted_code);\n                        }\n                        break;\n                    }\n                }\n            }, 500);\n            ",
      "text/plain": [
       "<IPython.core.display.Javascript object>"
      ]
     },
     "metadata": {},
     "output_type": "display_data"
    }
   ],
   "source": [
    "with open(\"polygon.geojson\", 'w', encoding='utf-8') as f:\n",
    "    json.dump(geojson, f, ensure_ascii=False)"
   ]
  },
  {
   "cell_type": "markdown",
   "metadata": {},
   "source": [
    "### 2. Point creation from string and seperate columns"
   ]
  },
  {
   "cell_type": "code",
   "execution_count": 122,
   "metadata": {},
   "outputs": [
    {
     "name": "stdout",
     "output_type": "stream",
     "text": [
      "<class 'pandas.core.frame.DataFrame'>\n",
      "RangeIndex: 277 entries, 0 to 276\n",
      "Data columns (total 6 columns):\n",
      " #   Column                Non-Null Count  Dtype  \n",
      "---  ------                --------------  -----  \n",
      " 0   Unnamed: 0            277 non-null    int64  \n",
      " 1   bairshil_hudgiin_ner  277 non-null    object \n",
      " 2   ezemshig_ashiglagch   277 non-null    object \n",
      " 3   bagiin_ner            277 non-null    object \n",
      " 4   Lat                   277 non-null    float64\n",
      " 5   Long                  277 non-null    float64\n",
      "dtypes: float64(2), int64(1), object(3)\n",
      "memory usage: 13.1+ KB\n"
     ]
    },
    {
     "data": {
      "application/javascript": "\n            setTimeout(function() {\n                var nbb_cell_id = 122;\n                var nbb_unformatted_code = \"clean_df = pd.read_excel('hudag.xlsx', index_col=False)\\nclean_df.info()\";\n                var nbb_formatted_code = \"clean_df = pd.read_excel(\\\"hudag.xlsx\\\", index_col=False)\\nclean_df.info()\";\n                var nbb_cells = Jupyter.notebook.get_cells();\n                for (var i = 0; i < nbb_cells.length; ++i) {\n                    if (nbb_cells[i].input_prompt_number == nbb_cell_id) {\n                        if (nbb_cells[i].get_text() == nbb_unformatted_code) {\n                             nbb_cells[i].set_text(nbb_formatted_code);\n                        }\n                        break;\n                    }\n                }\n            }, 500);\n            ",
      "text/plain": [
       "<IPython.core.display.Javascript object>"
      ]
     },
     "metadata": {},
     "output_type": "display_data"
    }
   ],
   "source": [
    "clean_df = pd.read_excel('hudag.xlsx', index_col=False)\n",
    "clean_df.info()"
   ]
  },
  {
   "cell_type": "code",
   "execution_count": 123,
   "metadata": {},
   "outputs": [
    {
     "data": {
      "application/javascript": "\n            setTimeout(function() {\n                var nbb_cell_id = 123;\n                var nbb_unformatted_code = \"features = []\\nfor row_ind, row in clean_df.iterrows():\\n    bag_ner = \\\" \\\".join(row[\\\"bagiin_ner\\\"].split())\\n    nname = row[\\\"bairshil_hudgiin_ner\\\"]\\n    ezemshigch = row[\\\"ezemshig_ashiglagch\\\"]\\n\\n    features.append(\\n        {\\n            \\\"type\\\": \\\"Feature\\\",\\n            \\\"geometry\\\": {\\n                \\\"type\\\": \\\"Point\\\",\\n                \\\"coordinates\\\": [row[\\\"Long\\\"], row[\\\"Lat\\\"]]\\n            },\\n            \\\"properties\\\": {\\n                \\\"bagiin_ner\\\": bag_ner,\\n                \\\"name\\\": nname,\\n                \\\"ezemshigch\\\": ezemshigch\\n            }\\n        }\\n    )\";\n                var nbb_formatted_code = \"features = []\\nfor row_ind, row in clean_df.iterrows():\\n    bag_ner = \\\" \\\".join(row[\\\"bagiin_ner\\\"].split())\\n    nname = row[\\\"bairshil_hudgiin_ner\\\"]\\n    ezemshigch = row[\\\"ezemshig_ashiglagch\\\"]\\n\\n    features.append(\\n        {\\n            \\\"type\\\": \\\"Feature\\\",\\n            \\\"geometry\\\": {\\\"type\\\": \\\"Point\\\", \\\"coordinates\\\": [row[\\\"Long\\\"], row[\\\"Lat\\\"]]},\\n            \\\"properties\\\": {\\n                \\\"bagiin_ner\\\": bag_ner,\\n                \\\"name\\\": nname,\\n                \\\"ezemshigch\\\": ezemshigch,\\n            },\\n        }\\n    )\";\n                var nbb_cells = Jupyter.notebook.get_cells();\n                for (var i = 0; i < nbb_cells.length; ++i) {\n                    if (nbb_cells[i].input_prompt_number == nbb_cell_id) {\n                        if (nbb_cells[i].get_text() == nbb_unformatted_code) {\n                             nbb_cells[i].set_text(nbb_formatted_code);\n                        }\n                        break;\n                    }\n                }\n            }, 500);\n            ",
      "text/plain": [
       "<IPython.core.display.Javascript object>"
      ]
     },
     "metadata": {},
     "output_type": "display_data"
    }
   ],
   "source": [
    "features = []\n",
    "for row_ind, row in clean_df.iterrows():\n",
    "    bag_ner = \" \".join(row[\"bagiin_ner\"].split())\n",
    "    nname = row[\"bairshil_hudgiin_ner\"]\n",
    "    ezemshigch = row[\"ezemshig_ashiglagch\"]\n",
    "\n",
    "    features.append(\n",
    "        {\n",
    "            \"type\": \"Feature\",\n",
    "            \"geometry\": {\n",
    "                \"type\": \"Point\",\n",
    "                \"coordinates\": [row[\"Long\"], row[\"Lat\"]]\n",
    "            },\n",
    "            \"properties\": {\n",
    "                \"bagiin_ner\": bag_ner,\n",
    "                \"name\": nname,\n",
    "                \"ezemshigch\": ezemshigch\n",
    "            }\n",
    "        }\n",
    "    )"
   ]
  },
  {
   "cell_type": "code",
   "execution_count": 124,
   "metadata": {},
   "outputs": [
    {
     "data": {
      "application/javascript": "\n            setTimeout(function() {\n                var nbb_cell_id = 124;\n                var nbb_unformatted_code = \"hudag_geojson = \\\\\\n{\\n    \\\"type\\\": \\\"FeatureCollection\\\", \\n    \\\"features\\\": features\\n}\";\n                var nbb_formatted_code = \"hudag_geojson = {\\\"type\\\": \\\"FeatureCollection\\\", \\\"features\\\": features}\";\n                var nbb_cells = Jupyter.notebook.get_cells();\n                for (var i = 0; i < nbb_cells.length; ++i) {\n                    if (nbb_cells[i].input_prompt_number == nbb_cell_id) {\n                        if (nbb_cells[i].get_text() == nbb_unformatted_code) {\n                             nbb_cells[i].set_text(nbb_formatted_code);\n                        }\n                        break;\n                    }\n                }\n            }, 500);\n            ",
      "text/plain": [
       "<IPython.core.display.Javascript object>"
      ]
     },
     "metadata": {},
     "output_type": "display_data"
    }
   ],
   "source": [
    "hudag_geojson = \\\n",
    "{\n",
    "    \"type\": \"FeatureCollection\", \n",
    "    \"features\": features\n",
    "}"
   ]
  },
  {
   "cell_type": "code",
   "execution_count": 125,
   "metadata": {},
   "outputs": [
    {
     "data": {
      "application/javascript": "\n            setTimeout(function() {\n                var nbb_cell_id = 125;\n                var nbb_unformatted_code = \"with open(\\\"hudag.geojson\\\", 'w', encoding='utf-8') as f:\\n    json.dump(hudag_geojson, f, ensure_ascii=False)\";\n                var nbb_formatted_code = \"with open(\\\"hudag.geojson\\\", \\\"w\\\", encoding=\\\"utf-8\\\") as f:\\n    json.dump(hudag_geojson, f, ensure_ascii=False)\";\n                var nbb_cells = Jupyter.notebook.get_cells();\n                for (var i = 0; i < nbb_cells.length; ++i) {\n                    if (nbb_cells[i].input_prompt_number == nbb_cell_id) {\n                        if (nbb_cells[i].get_text() == nbb_unformatted_code) {\n                             nbb_cells[i].set_text(nbb_formatted_code);\n                        }\n                        break;\n                    }\n                }\n            }, 500);\n            ",
      "text/plain": [
       "<IPython.core.display.Javascript object>"
      ]
     },
     "metadata": {},
     "output_type": "display_data"
    }
   ],
   "source": [
    "with open(\"hudag.geojson\", 'w', encoding='utf-8') as f:\n",
    "    json.dump(hudag_geojson, f, ensure_ascii=False)"
   ]
  },
  {
   "cell_type": "markdown",
   "metadata": {},
   "source": [
    "### 3. Point and polygon creation from string and seperate columns"
   ]
  },
  {
   "cell_type": "code",
   "execution_count": null,
   "metadata": {},
   "outputs": [],
   "source": [
    "fc_df = pd.read_excel(\"source_file.xlsx\", sheet_name=\"rashaan\")\n",
    "fc_df.info()"
   ]
  },
  {
   "cell_type": "code",
   "execution_count": 182,
   "metadata": {},
   "outputs": [
    {
     "data": {
      "application/javascript": "\n            setTimeout(function() {\n                var nbb_cell_id = 182;\n                var nbb_unformatted_code = \"fc_df[\\\"Lat\\\"] = fc_df[\\\"Xd\\\"] + (fc_df[\\\"Xm\\\"]/60) + (fc_df[\\\"Xs\\\"]/3600)\\nfc_df[\\\"Long\\\"] = fc_df[\\\"Yd\\\"] + (fc_df[\\\"Ym\\\"]/60) + (fc_df[\\\"Ys\\\"]/3600)\";\n                var nbb_formatted_code = \"fc_df[\\\"Lat\\\"] = fc_df[\\\"Xd\\\"] + (fc_df[\\\"Xm\\\"] / 60) + (fc_df[\\\"Xs\\\"] / 3600)\\nfc_df[\\\"Long\\\"] = fc_df[\\\"Yd\\\"] + (fc_df[\\\"Ym\\\"] / 60) + (fc_df[\\\"Ys\\\"] / 3600)\";\n                var nbb_cells = Jupyter.notebook.get_cells();\n                for (var i = 0; i < nbb_cells.length; ++i) {\n                    if (nbb_cells[i].input_prompt_number == nbb_cell_id) {\n                        if (nbb_cells[i].get_text() == nbb_unformatted_code) {\n                             nbb_cells[i].set_text(nbb_formatted_code);\n                        }\n                        break;\n                    }\n                }\n            }, 500);\n            ",
      "text/plain": [
       "<IPython.core.display.Javascript object>"
      ]
     },
     "metadata": {},
     "output_type": "display_data"
    },
    {
     "data": {
      "application/javascript": "\n            setTimeout(function() {\n                var nbb_cell_id = 182;\n                var nbb_unformatted_code = \"fc_df[\\\"Lat\\\"] = fc_df[\\\"Xd\\\"] + (fc_df[\\\"Xm\\\"]/60) + (fc_df[\\\"Xs\\\"]/3600)\\nfc_df[\\\"Long\\\"] = fc_df[\\\"Yd\\\"] + (fc_df[\\\"Ym\\\"]/60) + (fc_df[\\\"Ys\\\"]/3600)\";\n                var nbb_formatted_code = \"fc_df[\\\"Lat\\\"] = fc_df[\\\"Xd\\\"] + (fc_df[\\\"Xm\\\"] / 60) + (fc_df[\\\"Xs\\\"] / 3600)\\nfc_df[\\\"Long\\\"] = fc_df[\\\"Yd\\\"] + (fc_df[\\\"Ym\\\"] / 60) + (fc_df[\\\"Ys\\\"] / 3600)\";\n                var nbb_cells = Jupyter.notebook.get_cells();\n                for (var i = 0; i < nbb_cells.length; ++i) {\n                    if (nbb_cells[i].input_prompt_number == nbb_cell_id) {\n                        if (nbb_cells[i].get_text() == nbb_unformatted_code) {\n                             nbb_cells[i].set_text(nbb_formatted_code);\n                        }\n                        break;\n                    }\n                }\n            }, 500);\n            ",
      "text/plain": [
       "<IPython.core.display.Javascript object>"
      ]
     },
     "metadata": {},
     "output_type": "display_data"
    }
   ],
   "source": [
    "fc_df[\"Lat\"] = fc_df[\"Xd\"] + (fc_df[\"Xm\"]/60) + (fc_df[\"Xs\"]/3600)\n",
    "fc_df[\"Long\"] = fc_df[\"Yd\"] + (fc_df[\"Ym\"]/60) + (fc_df[\"Ys\"]/3600)"
   ]
  },
  {
   "cell_type": "code",
   "execution_count": 183,
   "metadata": {},
   "outputs": [
    {
     "data": {
      "application/javascript": "\n            setTimeout(function() {\n                var nbb_cell_id = 183;\n                var nbb_unformatted_code = \"fc_df.columns = ['dd', 'rashaanii_ner', 'bag', 'ezemshil', 'Xd', 'Xm', 'Xs', 'Yd', 'Ym','Ys', 'H', 'zoriulalt', 'hamgaalalt', 'hamgaalaltiin_turul', 'hereglee','tailbar', 'Lat', 'Long']\";\n                var nbb_formatted_code = \"fc_df.columns = [\\n    \\\"dd\\\",\\n    \\\"rashaanii_ner\\\",\\n    \\\"bag\\\",\\n    \\\"ezemshil\\\",\\n    \\\"Xd\\\",\\n    \\\"Xm\\\",\\n    \\\"Xs\\\",\\n    \\\"Yd\\\",\\n    \\\"Ym\\\",\\n    \\\"Ys\\\",\\n    \\\"H\\\",\\n    \\\"zoriulalt\\\",\\n    \\\"hamgaalalt\\\",\\n    \\\"hamgaalaltiin_turul\\\",\\n    \\\"hereglee\\\",\\n    \\\"tailbar\\\",\\n    \\\"Lat\\\",\\n    \\\"Long\\\",\\n]\";\n                var nbb_cells = Jupyter.notebook.get_cells();\n                for (var i = 0; i < nbb_cells.length; ++i) {\n                    if (nbb_cells[i].input_prompt_number == nbb_cell_id) {\n                        if (nbb_cells[i].get_text() == nbb_unformatted_code) {\n                             nbb_cells[i].set_text(nbb_formatted_code);\n                        }\n                        break;\n                    }\n                }\n            }, 500);\n            ",
      "text/plain": [
       "<IPython.core.display.Javascript object>"
      ]
     },
     "metadata": {},
     "output_type": "display_data"
    },
    {
     "data": {
      "application/javascript": "\n            setTimeout(function() {\n                var nbb_cell_id = 183;\n                var nbb_unformatted_code = \"fc_df.columns = ['dd', 'rashaanii_ner', 'bag', 'ezemshil', 'Xd', 'Xm', 'Xs', 'Yd', 'Ym','Ys', 'H', 'zoriulalt', 'hamgaalalt', 'hamgaalaltiin_turul', 'hereglee','tailbar', 'Lat', 'Long']\";\n                var nbb_formatted_code = \"fc_df.columns = [\\n    \\\"dd\\\",\\n    \\\"rashaanii_ner\\\",\\n    \\\"bag\\\",\\n    \\\"ezemshil\\\",\\n    \\\"Xd\\\",\\n    \\\"Xm\\\",\\n    \\\"Xs\\\",\\n    \\\"Yd\\\",\\n    \\\"Ym\\\",\\n    \\\"Ys\\\",\\n    \\\"H\\\",\\n    \\\"zoriulalt\\\",\\n    \\\"hamgaalalt\\\",\\n    \\\"hamgaalaltiin_turul\\\",\\n    \\\"hereglee\\\",\\n    \\\"tailbar\\\",\\n    \\\"Lat\\\",\\n    \\\"Long\\\",\\n]\";\n                var nbb_cells = Jupyter.notebook.get_cells();\n                for (var i = 0; i < nbb_cells.length; ++i) {\n                    if (nbb_cells[i].input_prompt_number == nbb_cell_id) {\n                        if (nbb_cells[i].get_text() == nbb_unformatted_code) {\n                             nbb_cells[i].set_text(nbb_formatted_code);\n                        }\n                        break;\n                    }\n                }\n            }, 500);\n            ",
      "text/plain": [
       "<IPython.core.display.Javascript object>"
      ]
     },
     "metadata": {},
     "output_type": "display_data"
    }
   ],
   "source": [
    "fc_df.columns = ['dd', 'rashaanii_ner', 'bag', 'ezemshil', 'Xd', 'Xm', 'Xs', 'Yd', 'Ym','Ys', 'H', 'zoriulalt', 'hamgaalalt', 'hamgaalaltiin_turul', 'hereglee','tailbar', 'Lat', 'Long']"
   ]
  },
  {
   "cell_type": "code",
   "execution_count": 184,
   "metadata": {},
   "outputs": [
    {
     "data": {
      "application/javascript": "\n            setTimeout(function() {\n                var nbb_cell_id = 184;\n                var nbb_unformatted_code = \"fc_grpd = fc_df.groupby(\\\"rashaanii_ner\\\")\";\n                var nbb_formatted_code = \"fc_grpd = fc_df.groupby(\\\"rashaanii_ner\\\")\";\n                var nbb_cells = Jupyter.notebook.get_cells();\n                for (var i = 0; i < nbb_cells.length; ++i) {\n                    if (nbb_cells[i].input_prompt_number == nbb_cell_id) {\n                        if (nbb_cells[i].get_text() == nbb_unformatted_code) {\n                             nbb_cells[i].set_text(nbb_formatted_code);\n                        }\n                        break;\n                    }\n                }\n            }, 500);\n            ",
      "text/plain": [
       "<IPython.core.display.Javascript object>"
      ]
     },
     "metadata": {},
     "output_type": "display_data"
    },
    {
     "data": {
      "application/javascript": "\n            setTimeout(function() {\n                var nbb_cell_id = 184;\n                var nbb_unformatted_code = \"fc_grpd = fc_df.groupby(\\\"rashaanii_ner\\\")\";\n                var nbb_formatted_code = \"fc_grpd = fc_df.groupby(\\\"rashaanii_ner\\\")\";\n                var nbb_cells = Jupyter.notebook.get_cells();\n                for (var i = 0; i < nbb_cells.length; ++i) {\n                    if (nbb_cells[i].input_prompt_number == nbb_cell_id) {\n                        if (nbb_cells[i].get_text() == nbb_unformatted_code) {\n                             nbb_cells[i].set_text(nbb_formatted_code);\n                        }\n                        break;\n                    }\n                }\n            }, 500);\n            ",
      "text/plain": [
       "<IPython.core.display.Javascript object>"
      ]
     },
     "metadata": {},
     "output_type": "display_data"
    }
   ],
   "source": [
    "fc_grpd = fc_df.groupby(\"rashaanii_ner\")"
   ]
  },
  {
   "cell_type": "code",
   "execution_count": 185,
   "metadata": {},
   "outputs": [
    {
     "data": {
      "application/javascript": "\n            setTimeout(function() {\n                var nbb_cell_id = 185;\n                var nbb_unformatted_code = \"points = []\\npolygons = []\\n\\npoint_features = []\\npolygon_features = []\\n\\nfor name, grp in fc_grpd:\\n    if len(grp) == 1:\\n        points.append(grp)\\n        \\n        \\n        for row_ind, row in grp.iterrows():\\n            bag_ner = row[\\\"bag\\\"]\\n            nname = row[\\\"rashaanii_ner\\\"]\\n            ezemshigch = row[\\\"ezemshil\\\"]\\n\\n            point_features.append(\\n                {\\n                    \\\"type\\\": \\\"Feature\\\",\\n                    \\\"geometry\\\": {\\n                        \\\"type\\\": \\\"Point\\\",\\n                        \\\"coordinates\\\": [row[\\\"Long\\\"], row[\\\"Lat\\\"]]\\n                    },\\n                    \\\"properties\\\": {\\n                        \\\"bagiin_ner\\\": bag_ner,\\n                        \\\"name\\\": nname,\\n                        \\\"ezemshigch\\\": ezemshigch\\n                    }\\n                }\\n            )\\n    else:\\n        polygons.append(grp)\\n        raw_coordinates = []\\n        for row_index, row in grp.iterrows():\\n\\n            bag_ner = row[\\\"bag\\\"]\\n            nname = row[\\\"rashaanii_ner\\\"]\\n            ezemshigch = row[\\\"ezemshil\\\"]\\n            raw_coordinates.append([row[\\\"Long\\\"], row[\\\"Lat\\\"]])\\n\\n        polygon_features.append(\\n            {\\n                \\\"type\\\": \\\"Feature\\\",\\n                \\\"geometry\\\": {\\n                    \\\"type\\\": \\\"Polygon\\\",\\n                    \\\"coordinates\\\": [raw_coordinates]\\n                },\\n                \\\"properties\\\": {\\n                        \\\"bagiin_ner\\\": bag_ner,\\n                        \\\"name\\\": nname,\\n                        \\\"ezemshigch\\\": ezemshigch\\n                    }\\n            }\\n        )\";\n                var nbb_formatted_code = \"points = []\\npolygons = []\\n\\npoint_features = []\\npolygon_features = []\\n\\nfor name, grp in fc_grpd:\\n    if len(grp) == 1:\\n        points.append(grp)\\n\\n        for row_ind, row in grp.iterrows():\\n            bag_ner = row[\\\"bag\\\"]\\n            nname = row[\\\"rashaanii_ner\\\"]\\n            ezemshigch = row[\\\"ezemshil\\\"]\\n\\n            point_features.append(\\n                {\\n                    \\\"type\\\": \\\"Feature\\\",\\n                    \\\"geometry\\\": {\\n                        \\\"type\\\": \\\"Point\\\",\\n                        \\\"coordinates\\\": [row[\\\"Long\\\"], row[\\\"Lat\\\"]],\\n                    },\\n                    \\\"properties\\\": {\\n                        \\\"bagiin_ner\\\": bag_ner,\\n                        \\\"name\\\": nname,\\n                        \\\"ezemshigch\\\": ezemshigch,\\n                    },\\n                }\\n            )\\n    else:\\n        polygons.append(grp)\\n        raw_coordinates = []\\n        for row_index, row in grp.iterrows():\\n\\n            bag_ner = row[\\\"bag\\\"]\\n            nname = row[\\\"rashaanii_ner\\\"]\\n            ezemshigch = row[\\\"ezemshil\\\"]\\n            raw_coordinates.append([row[\\\"Long\\\"], row[\\\"Lat\\\"]])\\n\\n        polygon_features.append(\\n            {\\n                \\\"type\\\": \\\"Feature\\\",\\n                \\\"geometry\\\": {\\\"type\\\": \\\"Polygon\\\", \\\"coordinates\\\": [raw_coordinates]},\\n                \\\"properties\\\": {\\n                    \\\"bagiin_ner\\\": bag_ner,\\n                    \\\"name\\\": nname,\\n                    \\\"ezemshigch\\\": ezemshigch,\\n                },\\n            }\\n        )\";\n                var nbb_cells = Jupyter.notebook.get_cells();\n                for (var i = 0; i < nbb_cells.length; ++i) {\n                    if (nbb_cells[i].input_prompt_number == nbb_cell_id) {\n                        if (nbb_cells[i].get_text() == nbb_unformatted_code) {\n                             nbb_cells[i].set_text(nbb_formatted_code);\n                        }\n                        break;\n                    }\n                }\n            }, 500);\n            ",
      "text/plain": [
       "<IPython.core.display.Javascript object>"
      ]
     },
     "metadata": {},
     "output_type": "display_data"
    },
    {
     "data": {
      "application/javascript": "\n            setTimeout(function() {\n                var nbb_cell_id = 185;\n                var nbb_unformatted_code = \"points = []\\npolygons = []\\n\\npoint_features = []\\npolygon_features = []\\n\\nfor name, grp in fc_grpd:\\n    if len(grp) == 1:\\n        points.append(grp)\\n        \\n        \\n        for row_ind, row in grp.iterrows():\\n            bag_ner = row[\\\"bag\\\"]\\n            nname = row[\\\"rashaanii_ner\\\"]\\n            ezemshigch = row[\\\"ezemshil\\\"]\\n\\n            point_features.append(\\n                {\\n                    \\\"type\\\": \\\"Feature\\\",\\n                    \\\"geometry\\\": {\\n                        \\\"type\\\": \\\"Point\\\",\\n                        \\\"coordinates\\\": [row[\\\"Long\\\"], row[\\\"Lat\\\"]]\\n                    },\\n                    \\\"properties\\\": {\\n                        \\\"bagiin_ner\\\": bag_ner,\\n                        \\\"name\\\": nname,\\n                        \\\"ezemshigch\\\": ezemshigch\\n                    }\\n                }\\n            )\\n    else:\\n        polygons.append(grp)\\n        raw_coordinates = []\\n        for row_index, row in grp.iterrows():\\n\\n            bag_ner = row[\\\"bag\\\"]\\n            nname = row[\\\"rashaanii_ner\\\"]\\n            ezemshigch = row[\\\"ezemshil\\\"]\\n            raw_coordinates.append([row[\\\"Long\\\"], row[\\\"Lat\\\"]])\\n\\n        polygon_features.append(\\n            {\\n                \\\"type\\\": \\\"Feature\\\",\\n                \\\"geometry\\\": {\\n                    \\\"type\\\": \\\"Polygon\\\",\\n                    \\\"coordinates\\\": [raw_coordinates]\\n                },\\n                \\\"properties\\\": {\\n                        \\\"bagiin_ner\\\": bag_ner,\\n                        \\\"name\\\": nname,\\n                        \\\"ezemshigch\\\": ezemshigch\\n                    }\\n            }\\n        )\";\n                var nbb_formatted_code = \"points = []\\npolygons = []\\n\\npoint_features = []\\npolygon_features = []\\n\\nfor name, grp in fc_grpd:\\n    if len(grp) == 1:\\n        points.append(grp)\\n\\n        for row_ind, row in grp.iterrows():\\n            bag_ner = row[\\\"bag\\\"]\\n            nname = row[\\\"rashaanii_ner\\\"]\\n            ezemshigch = row[\\\"ezemshil\\\"]\\n\\n            point_features.append(\\n                {\\n                    \\\"type\\\": \\\"Feature\\\",\\n                    \\\"geometry\\\": {\\n                        \\\"type\\\": \\\"Point\\\",\\n                        \\\"coordinates\\\": [row[\\\"Long\\\"], row[\\\"Lat\\\"]],\\n                    },\\n                    \\\"properties\\\": {\\n                        \\\"bagiin_ner\\\": bag_ner,\\n                        \\\"name\\\": nname,\\n                        \\\"ezemshigch\\\": ezemshigch,\\n                    },\\n                }\\n            )\\n    else:\\n        polygons.append(grp)\\n        raw_coordinates = []\\n        for row_index, row in grp.iterrows():\\n\\n            bag_ner = row[\\\"bag\\\"]\\n            nname = row[\\\"rashaanii_ner\\\"]\\n            ezemshigch = row[\\\"ezemshil\\\"]\\n            raw_coordinates.append([row[\\\"Long\\\"], row[\\\"Lat\\\"]])\\n\\n        polygon_features.append(\\n            {\\n                \\\"type\\\": \\\"Feature\\\",\\n                \\\"geometry\\\": {\\\"type\\\": \\\"Polygon\\\", \\\"coordinates\\\": [raw_coordinates]},\\n                \\\"properties\\\": {\\n                    \\\"bagiin_ner\\\": bag_ner,\\n                    \\\"name\\\": nname,\\n                    \\\"ezemshigch\\\": ezemshigch,\\n                },\\n            }\\n        )\";\n                var nbb_cells = Jupyter.notebook.get_cells();\n                for (var i = 0; i < nbb_cells.length; ++i) {\n                    if (nbb_cells[i].input_prompt_number == nbb_cell_id) {\n                        if (nbb_cells[i].get_text() == nbb_unformatted_code) {\n                             nbb_cells[i].set_text(nbb_formatted_code);\n                        }\n                        break;\n                    }\n                }\n            }, 500);\n            ",
      "text/plain": [
       "<IPython.core.display.Javascript object>"
      ]
     },
     "metadata": {},
     "output_type": "display_data"
    }
   ],
   "source": [
    "points = []\n",
    "polygons = []\n",
    "\n",
    "point_features = []\n",
    "polygon_features = []\n",
    "\n",
    "for name, grp in fc_grpd:\n",
    "    if len(grp) == 1:\n",
    "        points.append(grp)\n",
    "        \n",
    "        \n",
    "        for row_ind, row in grp.iterrows():\n",
    "            bag_ner = row[\"bag\"]\n",
    "            nname = row[\"rashaanii_ner\"]\n",
    "            ezemshigch = row[\"ezemshil\"]\n",
    "\n",
    "            point_features.append(\n",
    "                {\n",
    "                    \"type\": \"Feature\",\n",
    "                    \"geometry\": {\n",
    "                        \"type\": \"Point\",\n",
    "                        \"coordinates\": [row[\"Long\"], row[\"Lat\"]]\n",
    "                    },\n",
    "                    \"properties\": {\n",
    "                        \"bagiin_ner\": bag_ner,\n",
    "                        \"name\": nname,\n",
    "                        \"ezemshigch\": ezemshigch\n",
    "                    }\n",
    "                }\n",
    "            )\n",
    "    else:\n",
    "        polygons.append(grp)\n",
    "        raw_coordinates = []\n",
    "        for row_index, row in grp.iterrows():\n",
    "\n",
    "            bag_ner = row[\"bag\"]\n",
    "            nname = row[\"rashaanii_ner\"]\n",
    "            ezemshigch = row[\"ezemshil\"]\n",
    "            raw_coordinates.append([row[\"Long\"], row[\"Lat\"]])\n",
    "\n",
    "        polygon_features.append(\n",
    "            {\n",
    "                \"type\": \"Feature\",\n",
    "                \"geometry\": {\n",
    "                    \"type\": \"Polygon\",\n",
    "                    \"coordinates\": [raw_coordinates]\n",
    "                },\n",
    "                \"properties\": {\n",
    "                        \"bagiin_ner\": bag_ner,\n",
    "                        \"name\": nname,\n",
    "                        \"ezemshigch\": ezemshigch\n",
    "                    }\n",
    "            }\n",
    "        )"
   ]
  },
  {
   "cell_type": "code",
   "execution_count": 189,
   "metadata": {},
   "outputs": [
    {
     "data": {
      "application/javascript": "\n            setTimeout(function() {\n                var nbb_cell_id = 189;\n                var nbb_unformatted_code = \"pd.concat(points).reset_index(drop=True).to_csv(\\\"rashaan_points.csv\\\", encoding=\\\"utf-8\\\", index=False)\";\n                var nbb_formatted_code = \"pd.concat(points).reset_index(drop=True).to_csv(\\n    \\\"rashaan_points.csv\\\", encoding=\\\"utf-8\\\", index=False\\n)\";\n                var nbb_cells = Jupyter.notebook.get_cells();\n                for (var i = 0; i < nbb_cells.length; ++i) {\n                    if (nbb_cells[i].input_prompt_number == nbb_cell_id) {\n                        if (nbb_cells[i].get_text() == nbb_unformatted_code) {\n                             nbb_cells[i].set_text(nbb_formatted_code);\n                        }\n                        break;\n                    }\n                }\n            }, 500);\n            ",
      "text/plain": [
       "<IPython.core.display.Javascript object>"
      ]
     },
     "metadata": {},
     "output_type": "display_data"
    },
    {
     "data": {
      "application/javascript": "\n            setTimeout(function() {\n                var nbb_cell_id = 189;\n                var nbb_unformatted_code = \"pd.concat(points).reset_index(drop=True).to_csv(\\\"rashaan_points.csv\\\", encoding=\\\"utf-8\\\", index=False)\";\n                var nbb_formatted_code = \"pd.concat(points).reset_index(drop=True).to_csv(\\n    \\\"rashaan_points.csv\\\", encoding=\\\"utf-8\\\", index=False\\n)\";\n                var nbb_cells = Jupyter.notebook.get_cells();\n                for (var i = 0; i < nbb_cells.length; ++i) {\n                    if (nbb_cells[i].input_prompt_number == nbb_cell_id) {\n                        if (nbb_cells[i].get_text() == nbb_unformatted_code) {\n                             nbb_cells[i].set_text(nbb_formatted_code);\n                        }\n                        break;\n                    }\n                }\n            }, 500);\n            ",
      "text/plain": [
       "<IPython.core.display.Javascript object>"
      ]
     },
     "metadata": {},
     "output_type": "display_data"
    }
   ],
   "source": [
    "pd.concat(points).reset_index(drop=True).to_csv(\"rashaan_points.csv\", encoding=\"utf-8\", index=False)"
   ]
  },
  {
   "cell_type": "code",
   "execution_count": 162,
   "metadata": {},
   "outputs": [
    {
     "data": {
      "application/javascript": "\n            setTimeout(function() {\n                var nbb_cell_id = 162;\n                var nbb_unformatted_code = \"point_geojson = \\\\\\n{\\n    \\\"type\\\": \\\"FeatureCollection\\\", \\n    \\\"features\\\": point_features\\n}\\n\\npolygon_geojson = \\\\\\n{\\n    \\\"type\\\": \\\"FeatureCollection\\\", \\n    \\\"features\\\": polygon_features\\n}\";\n                var nbb_formatted_code = \"point_geojson = {\\\"type\\\": \\\"FeatureCollection\\\", \\\"features\\\": point_features}\\n\\npolygon_geojson = {\\\"type\\\": \\\"FeatureCollection\\\", \\\"features\\\": polygon_features}\";\n                var nbb_cells = Jupyter.notebook.get_cells();\n                for (var i = 0; i < nbb_cells.length; ++i) {\n                    if (nbb_cells[i].input_prompt_number == nbb_cell_id) {\n                        if (nbb_cells[i].get_text() == nbb_unformatted_code) {\n                             nbb_cells[i].set_text(nbb_formatted_code);\n                        }\n                        break;\n                    }\n                }\n            }, 500);\n            ",
      "text/plain": [
       "<IPython.core.display.Javascript object>"
      ]
     },
     "metadata": {},
     "output_type": "display_data"
    },
    {
     "data": {
      "application/javascript": "\n            setTimeout(function() {\n                var nbb_cell_id = 162;\n                var nbb_unformatted_code = \"point_geojson = \\\\\\n{\\n    \\\"type\\\": \\\"FeatureCollection\\\", \\n    \\\"features\\\": point_features\\n}\\n\\npolygon_geojson = \\\\\\n{\\n    \\\"type\\\": \\\"FeatureCollection\\\", \\n    \\\"features\\\": polygon_features\\n}\";\n                var nbb_formatted_code = \"point_geojson = {\\\"type\\\": \\\"FeatureCollection\\\", \\\"features\\\": point_features}\\n\\npolygon_geojson = {\\\"type\\\": \\\"FeatureCollection\\\", \\\"features\\\": polygon_features}\";\n                var nbb_cells = Jupyter.notebook.get_cells();\n                for (var i = 0; i < nbb_cells.length; ++i) {\n                    if (nbb_cells[i].input_prompt_number == nbb_cell_id) {\n                        if (nbb_cells[i].get_text() == nbb_unformatted_code) {\n                             nbb_cells[i].set_text(nbb_formatted_code);\n                        }\n                        break;\n                    }\n                }\n            }, 500);\n            ",
      "text/plain": [
       "<IPython.core.display.Javascript object>"
      ]
     },
     "metadata": {},
     "output_type": "display_data"
    }
   ],
   "source": [
    "point_geojson = \\\n",
    "{\n",
    "    \"type\": \"FeatureCollection\", \n",
    "    \"features\": point_features\n",
    "}\n",
    "\n",
    "polygon_geojson = \\\n",
    "{\n",
    "    \"type\": \"FeatureCollection\", \n",
    "    \"features\": polygon_features\n",
    "}"
   ]
  },
  {
   "cell_type": "code",
   "execution_count": 163,
   "metadata": {},
   "outputs": [
    {
     "data": {
      "application/javascript": "\n            setTimeout(function() {\n                var nbb_cell_id = 163;\n                var nbb_unformatted_code = \"with open(\\\"rashaan_point.geojson\\\", 'w', encoding='utf-8') as f:\\n    json.dump(point_geojson, f, ensure_ascii=False)\\n\\nwith open(\\\"rashaan_polygon.geojson\\\", 'w', encoding='utf-8') as f:\\n    json.dump(polygon_geojson, f, ensure_ascii=False)\";\n                var nbb_formatted_code = \"with open(\\\"rashaan_point.geojson\\\", \\\"w\\\", encoding=\\\"utf-8\\\") as f:\\n    json.dump(point_geojson, f, ensure_ascii=False)\\n\\nwith open(\\\"rashaan_polygon.geojson\\\", \\\"w\\\", encoding=\\\"utf-8\\\") as f:\\n    json.dump(polygon_geojson, f, ensure_ascii=False)\";\n                var nbb_cells = Jupyter.notebook.get_cells();\n                for (var i = 0; i < nbb_cells.length; ++i) {\n                    if (nbb_cells[i].input_prompt_number == nbb_cell_id) {\n                        if (nbb_cells[i].get_text() == nbb_unformatted_code) {\n                             nbb_cells[i].set_text(nbb_formatted_code);\n                        }\n                        break;\n                    }\n                }\n            }, 500);\n            ",
      "text/plain": [
       "<IPython.core.display.Javascript object>"
      ]
     },
     "metadata": {},
     "output_type": "display_data"
    },
    {
     "data": {
      "application/javascript": "\n            setTimeout(function() {\n                var nbb_cell_id = 163;\n                var nbb_unformatted_code = \"with open(\\\"rashaan_point.geojson\\\", 'w', encoding='utf-8') as f:\\n    json.dump(point_geojson, f, ensure_ascii=False)\\n\\nwith open(\\\"rashaan_polygon.geojson\\\", 'w', encoding='utf-8') as f:\\n    json.dump(polygon_geojson, f, ensure_ascii=False)\";\n                var nbb_formatted_code = \"with open(\\\"rashaan_point.geojson\\\", \\\"w\\\", encoding=\\\"utf-8\\\") as f:\\n    json.dump(point_geojson, f, ensure_ascii=False)\\n\\nwith open(\\\"rashaan_polygon.geojson\\\", \\\"w\\\", encoding=\\\"utf-8\\\") as f:\\n    json.dump(polygon_geojson, f, ensure_ascii=False)\";\n                var nbb_cells = Jupyter.notebook.get_cells();\n                for (var i = 0; i < nbb_cells.length; ++i) {\n                    if (nbb_cells[i].input_prompt_number == nbb_cell_id) {\n                        if (nbb_cells[i].get_text() == nbb_unformatted_code) {\n                             nbb_cells[i].set_text(nbb_formatted_code);\n                        }\n                        break;\n                    }\n                }\n            }, 500);\n            ",
      "text/plain": [
       "<IPython.core.display.Javascript object>"
      ]
     },
     "metadata": {},
     "output_type": "display_data"
    }
   ],
   "source": [
    "with open(\"rashaan_point.geojson\", 'w', encoding='utf-8') as f:\n",
    "    json.dump(point_geojson, f, ensure_ascii=False)\n",
    "\n",
    "with open(\"rashaan_polygon.geojson\", 'w', encoding='utf-8') as f:\n",
    "    json.dump(polygon_geojson, f, ensure_ascii=False)"
   ]
  },
  {
   "cell_type": "markdown",
   "metadata": {},
   "source": [
    "### 4. Point and polygon creation from string and seperate columns(different sheet)"
   ]
  },
  {
   "cell_type": "code",
   "execution_count": null,
   "metadata": {},
   "outputs": [],
   "source": [
    "fc_df = pd.read_excel(\"source_file.xlsx\", sheet_name=\"bulag\")\n",
    "fc_df.info()"
   ]
  },
  {
   "cell_type": "code",
   "execution_count": 191,
   "metadata": {},
   "outputs": [
    {
     "data": {
      "application/javascript": "\n            setTimeout(function() {\n                var nbb_cell_id = 191;\n                var nbb_unformatted_code = \"fc_df[\\\"Lat\\\"] = fc_df[\\\"Xd\\\"] + (fc_df[\\\"Xm\\\"]/60) + (fc_df[\\\"Xs\\\"]/3600)\\nfc_df[\\\"Long\\\"] = fc_df[\\\"Yd\\\"] + (fc_df[\\\"Ym\\\"]/60) + (fc_df[\\\"Ys\\\"]/3600)\";\n                var nbb_formatted_code = \"fc_df[\\\"Lat\\\"] = fc_df[\\\"Xd\\\"] + (fc_df[\\\"Xm\\\"] / 60) + (fc_df[\\\"Xs\\\"] / 3600)\\nfc_df[\\\"Long\\\"] = fc_df[\\\"Yd\\\"] + (fc_df[\\\"Ym\\\"] / 60) + (fc_df[\\\"Ys\\\"] / 3600)\";\n                var nbb_cells = Jupyter.notebook.get_cells();\n                for (var i = 0; i < nbb_cells.length; ++i) {\n                    if (nbb_cells[i].input_prompt_number == nbb_cell_id) {\n                        if (nbb_cells[i].get_text() == nbb_unformatted_code) {\n                             nbb_cells[i].set_text(nbb_formatted_code);\n                        }\n                        break;\n                    }\n                }\n            }, 500);\n            ",
      "text/plain": [
       "<IPython.core.display.Javascript object>"
      ]
     },
     "metadata": {},
     "output_type": "display_data"
    },
    {
     "data": {
      "application/javascript": "\n            setTimeout(function() {\n                var nbb_cell_id = 191;\n                var nbb_unformatted_code = \"fc_df[\\\"Lat\\\"] = fc_df[\\\"Xd\\\"] + (fc_df[\\\"Xm\\\"]/60) + (fc_df[\\\"Xs\\\"]/3600)\\nfc_df[\\\"Long\\\"] = fc_df[\\\"Yd\\\"] + (fc_df[\\\"Ym\\\"]/60) + (fc_df[\\\"Ys\\\"]/3600)\";\n                var nbb_formatted_code = \"fc_df[\\\"Lat\\\"] = fc_df[\\\"Xd\\\"] + (fc_df[\\\"Xm\\\"] / 60) + (fc_df[\\\"Xs\\\"] / 3600)\\nfc_df[\\\"Long\\\"] = fc_df[\\\"Yd\\\"] + (fc_df[\\\"Ym\\\"] / 60) + (fc_df[\\\"Ys\\\"] / 3600)\";\n                var nbb_cells = Jupyter.notebook.get_cells();\n                for (var i = 0; i < nbb_cells.length; ++i) {\n                    if (nbb_cells[i].input_prompt_number == nbb_cell_id) {\n                        if (nbb_cells[i].get_text() == nbb_unformatted_code) {\n                             nbb_cells[i].set_text(nbb_formatted_code);\n                        }\n                        break;\n                    }\n                }\n            }, 500);\n            ",
      "text/plain": [
       "<IPython.core.display.Javascript object>"
      ]
     },
     "metadata": {},
     "output_type": "display_data"
    }
   ],
   "source": [
    "fc_df[\"Lat\"] = fc_df[\"Xd\"] + (fc_df[\"Xm\"]/60) + (fc_df[\"Xs\"]/3600)\n",
    "fc_df[\"Long\"] = fc_df[\"Yd\"] + (fc_df[\"Ym\"]/60) + (fc_df[\"Ys\"]/3600)"
   ]
  },
  {
   "cell_type": "code",
   "execution_count": 192,
   "metadata": {},
   "outputs": [
    {
     "data": {
      "application/javascript": "\n            setTimeout(function() {\n                var nbb_cell_id = 192;\n                var nbb_unformatted_code = \"fc_df.columns = ['dd', 'bulgiin_ner', 'bagiin_ner', 'ezemshil', 'Xd', 'Xm', 'Xs', 'Yd',\\n       'Ym', 'Ys', 'H', 'zoriulalt', 'hamgaalalt', 'hashlagiin_turul_hiits',\\n       'bulgiin_gorim', 'bulgiin_turul', 'bulgiin_undarga', 'tailbar', 'Lat', 'Long']\";\n                var nbb_formatted_code = \"fc_df.columns = [\\n    \\\"dd\\\",\\n    \\\"bulgiin_ner\\\",\\n    \\\"bagiin_ner\\\",\\n    \\\"ezemshil\\\",\\n    \\\"Xd\\\",\\n    \\\"Xm\\\",\\n    \\\"Xs\\\",\\n    \\\"Yd\\\",\\n    \\\"Ym\\\",\\n    \\\"Ys\\\",\\n    \\\"H\\\",\\n    \\\"zoriulalt\\\",\\n    \\\"hamgaalalt\\\",\\n    \\\"hashlagiin_turul_hiits\\\",\\n    \\\"bulgiin_gorim\\\",\\n    \\\"bulgiin_turul\\\",\\n    \\\"bulgiin_undarga\\\",\\n    \\\"tailbar\\\",\\n    \\\"Lat\\\",\\n    \\\"Long\\\",\\n]\";\n                var nbb_cells = Jupyter.notebook.get_cells();\n                for (var i = 0; i < nbb_cells.length; ++i) {\n                    if (nbb_cells[i].input_prompt_number == nbb_cell_id) {\n                        if (nbb_cells[i].get_text() == nbb_unformatted_code) {\n                             nbb_cells[i].set_text(nbb_formatted_code);\n                        }\n                        break;\n                    }\n                }\n            }, 500);\n            ",
      "text/plain": [
       "<IPython.core.display.Javascript object>"
      ]
     },
     "metadata": {},
     "output_type": "display_data"
    },
    {
     "data": {
      "application/javascript": "\n            setTimeout(function() {\n                var nbb_cell_id = 192;\n                var nbb_unformatted_code = \"fc_df.columns = ['dd', 'bulgiin_ner', 'bagiin_ner', 'ezemshil', 'Xd', 'Xm', 'Xs', 'Yd',\\n       'Ym', 'Ys', 'H', 'zoriulalt', 'hamgaalalt', 'hashlagiin_turul_hiits',\\n       'bulgiin_gorim', 'bulgiin_turul', 'bulgiin_undarga', 'tailbar', 'Lat', 'Long']\";\n                var nbb_formatted_code = \"fc_df.columns = [\\n    \\\"dd\\\",\\n    \\\"bulgiin_ner\\\",\\n    \\\"bagiin_ner\\\",\\n    \\\"ezemshil\\\",\\n    \\\"Xd\\\",\\n    \\\"Xm\\\",\\n    \\\"Xs\\\",\\n    \\\"Yd\\\",\\n    \\\"Ym\\\",\\n    \\\"Ys\\\",\\n    \\\"H\\\",\\n    \\\"zoriulalt\\\",\\n    \\\"hamgaalalt\\\",\\n    \\\"hashlagiin_turul_hiits\\\",\\n    \\\"bulgiin_gorim\\\",\\n    \\\"bulgiin_turul\\\",\\n    \\\"bulgiin_undarga\\\",\\n    \\\"tailbar\\\",\\n    \\\"Lat\\\",\\n    \\\"Long\\\",\\n]\";\n                var nbb_cells = Jupyter.notebook.get_cells();\n                for (var i = 0; i < nbb_cells.length; ++i) {\n                    if (nbb_cells[i].input_prompt_number == nbb_cell_id) {\n                        if (nbb_cells[i].get_text() == nbb_unformatted_code) {\n                             nbb_cells[i].set_text(nbb_formatted_code);\n                        }\n                        break;\n                    }\n                }\n            }, 500);\n            ",
      "text/plain": [
       "<IPython.core.display.Javascript object>"
      ]
     },
     "metadata": {},
     "output_type": "display_data"
    }
   ],
   "source": [
    "fc_df.columns = ['dd', 'bulgiin_ner', 'bagiin_ner', 'ezemshil', 'Xd', 'Xm', 'Xs', 'Yd',\n",
    "       'Ym', 'Ys', 'H', 'zoriulalt', 'hamgaalalt', 'hashlagiin_turul_hiits',\n",
    "       'bulgiin_gorim', 'bulgiin_turul', 'bulgiin_undarga', 'tailbar', 'Lat', 'Long']"
   ]
  },
  {
   "cell_type": "code",
   "execution_count": 193,
   "metadata": {},
   "outputs": [
    {
     "data": {
      "application/javascript": "\n            setTimeout(function() {\n                var nbb_cell_id = 193;\n                var nbb_unformatted_code = \"fc_grpd = fc_df.groupby(\\\"bulgiin_ner\\\")\";\n                var nbb_formatted_code = \"fc_grpd = fc_df.groupby(\\\"bulgiin_ner\\\")\";\n                var nbb_cells = Jupyter.notebook.get_cells();\n                for (var i = 0; i < nbb_cells.length; ++i) {\n                    if (nbb_cells[i].input_prompt_number == nbb_cell_id) {\n                        if (nbb_cells[i].get_text() == nbb_unformatted_code) {\n                             nbb_cells[i].set_text(nbb_formatted_code);\n                        }\n                        break;\n                    }\n                }\n            }, 500);\n            ",
      "text/plain": [
       "<IPython.core.display.Javascript object>"
      ]
     },
     "metadata": {},
     "output_type": "display_data"
    },
    {
     "data": {
      "application/javascript": "\n            setTimeout(function() {\n                var nbb_cell_id = 193;\n                var nbb_unformatted_code = \"fc_grpd = fc_df.groupby(\\\"bulgiin_ner\\\")\";\n                var nbb_formatted_code = \"fc_grpd = fc_df.groupby(\\\"bulgiin_ner\\\")\";\n                var nbb_cells = Jupyter.notebook.get_cells();\n                for (var i = 0; i < nbb_cells.length; ++i) {\n                    if (nbb_cells[i].input_prompt_number == nbb_cell_id) {\n                        if (nbb_cells[i].get_text() == nbb_unformatted_code) {\n                             nbb_cells[i].set_text(nbb_formatted_code);\n                        }\n                        break;\n                    }\n                }\n            }, 500);\n            ",
      "text/plain": [
       "<IPython.core.display.Javascript object>"
      ]
     },
     "metadata": {},
     "output_type": "display_data"
    }
   ],
   "source": [
    "fc_grpd = fc_df.groupby(\"bulgiin_ner\")"
   ]
  },
  {
   "cell_type": "code",
   "execution_count": 194,
   "metadata": {},
   "outputs": [
    {
     "data": {
      "application/javascript": "\n            setTimeout(function() {\n                var nbb_cell_id = 194;\n                var nbb_unformatted_code = \"points = []\\npolygons = []\\n\\npoint_features = []\\npolygon_features = []\\n\\nfor name, grp in fc_grpd:\\n    if len(grp) == 1:\\n        points.append(grp)\\n        \\n        \\n        for row_ind, row in grp.iterrows():\\n            bag_ner = row[\\\"bagiin_ner\\\"]\\n            nname = row[\\\"bulgiin_ner\\\"]\\n            ezemshigch = row[\\\"ezemshil\\\"]\\n            zoriulalt = row[\\\"zoriulalt\\\"]\\n            hamgaalalt = row[\\\"hamgaalalt\\\"]\\n            hashlaga = row[\\\"hashlagiin_turul_hiits\\\"]\\n            bulag_gorim = row[\\\"bulgiin_gorim\\\"]\\n            bulag_turul = row[\\\"bulgiin_turul\\\"]\\n            bulag_undarga = row[\\\"bulgiin_undarga\\\"]\\n            tailbar = row[\\\"tailbar\\\"]\\n\\n            point_features.append(\\n                {\\n                    \\\"type\\\": \\\"Feature\\\",\\n                    \\\"geometry\\\": {\\n                        \\\"type\\\": \\\"Point\\\",\\n                        \\\"coordinates\\\": [row[\\\"Long\\\"], row[\\\"Lat\\\"]]\\n                    },\\n                    \\\"properties\\\": {\\n                        \\\"bagiin_ner\\\": bag_ner,\\n                        \\\"name\\\": nname,\\n                        \\\"ezemshigch\\\": ezemshigch,\\n                        \\\"zoriulal\\\": zoriulalt,\\n                        \\\"hamgaalalt\\\": hamgaalalt,\\n                        \\\"hashlaga\\\": hashlaga,\\n                        \\\"bulgiin_gorim\\\": bulag_gorim,\\n                        \\\"bulgiin_turul\\\": bulag_turul,\\n                        \\\"bulgiin_undarga\\\": bulag_undarga,\\n                        \\\"tailbar\\\": tailbar\\n                    }\\n                }\\n            )\\n    else:\\n        polygons.append(grp)\\n        raw_coordinates = []\\n        for row_index, row in grp.iterrows():\\n\\n            bag_ner = row[\\\"bagiin_ner\\\"]\\n            nname = row[\\\"bulgiin_ner\\\"]\\n            ezemshigch = row[\\\"ezemshil\\\"]\\n\\n            zoriulalt = row[\\\"zoriulalt\\\"]\\n            hamgaalalt = row[\\\"hamgaalalt\\\"]\\n            hashlaga = row[\\\"hashlagiin_turul_hiits\\\"]\\n            bulag_gorim = row[\\\"bulgiin_gorim\\\"]\\n            bulag_turul = row[\\\"bulgiin_turul\\\"]\\n            bulag_undarga = row[\\\"bulgiin_undarga\\\"]\\n            tailbar = row[\\\"tailbar\\\"]\\n\\n            raw_coordinates.append([row[\\\"Long\\\"], row[\\\"Lat\\\"]])\\n\\n        polygon_features.append(\\n            {\\n                \\\"type\\\": \\\"Feature\\\",\\n                \\\"geometry\\\": {\\n                    \\\"type\\\": \\\"Polygon\\\",\\n                    \\\"coordinates\\\": [raw_coordinates]\\n                },\\n                \\\"properties\\\": {\\n                        \\\"bagiin_ner\\\": bag_ner,\\n                        \\\"name\\\": nname,\\n                        \\\"ezemshigch\\\": ezemshigch,\\n                        \\\"zoriulal\\\": zoriulalt,\\n                        \\\"hamgaalalt\\\": hamgaalalt,\\n                        \\\"hashlaga\\\": hashlaga,\\n                        \\\"bulgiin_gorim\\\": bulag_gorim,\\n                        \\\"bulgiin_turul\\\": bulag_turul,\\n                        \\\"bulgiin_undarga\\\": bulag_undarga,\\n                        \\\"tailbar\\\": tailbar\\n                    }\\n            }\\n        )\";\n                var nbb_formatted_code = \"points = []\\npolygons = []\\n\\npoint_features = []\\npolygon_features = []\\n\\nfor name, grp in fc_grpd:\\n    if len(grp) == 1:\\n        points.append(grp)\\n\\n        for row_ind, row in grp.iterrows():\\n            bag_ner = row[\\\"bagiin_ner\\\"]\\n            nname = row[\\\"bulgiin_ner\\\"]\\n            ezemshigch = row[\\\"ezemshil\\\"]\\n            zoriulalt = row[\\\"zoriulalt\\\"]\\n            hamgaalalt = row[\\\"hamgaalalt\\\"]\\n            hashlaga = row[\\\"hashlagiin_turul_hiits\\\"]\\n            bulag_gorim = row[\\\"bulgiin_gorim\\\"]\\n            bulag_turul = row[\\\"bulgiin_turul\\\"]\\n            bulag_undarga = row[\\\"bulgiin_undarga\\\"]\\n            tailbar = row[\\\"tailbar\\\"]\\n\\n            point_features.append(\\n                {\\n                    \\\"type\\\": \\\"Feature\\\",\\n                    \\\"geometry\\\": {\\n                        \\\"type\\\": \\\"Point\\\",\\n                        \\\"coordinates\\\": [row[\\\"Long\\\"], row[\\\"Lat\\\"]],\\n                    },\\n                    \\\"properties\\\": {\\n                        \\\"bagiin_ner\\\": bag_ner,\\n                        \\\"name\\\": nname,\\n                        \\\"ezemshigch\\\": ezemshigch,\\n                        \\\"zoriulal\\\": zoriulalt,\\n                        \\\"hamgaalalt\\\": hamgaalalt,\\n                        \\\"hashlaga\\\": hashlaga,\\n                        \\\"bulgiin_gorim\\\": bulag_gorim,\\n                        \\\"bulgiin_turul\\\": bulag_turul,\\n                        \\\"bulgiin_undarga\\\": bulag_undarga,\\n                        \\\"tailbar\\\": tailbar,\\n                    },\\n                }\\n            )\\n    else:\\n        polygons.append(grp)\\n        raw_coordinates = []\\n        for row_index, row in grp.iterrows():\\n\\n            bag_ner = row[\\\"bagiin_ner\\\"]\\n            nname = row[\\\"bulgiin_ner\\\"]\\n            ezemshigch = row[\\\"ezemshil\\\"]\\n\\n            zoriulalt = row[\\\"zoriulalt\\\"]\\n            hamgaalalt = row[\\\"hamgaalalt\\\"]\\n            hashlaga = row[\\\"hashlagiin_turul_hiits\\\"]\\n            bulag_gorim = row[\\\"bulgiin_gorim\\\"]\\n            bulag_turul = row[\\\"bulgiin_turul\\\"]\\n            bulag_undarga = row[\\\"bulgiin_undarga\\\"]\\n            tailbar = row[\\\"tailbar\\\"]\\n\\n            raw_coordinates.append([row[\\\"Long\\\"], row[\\\"Lat\\\"]])\\n\\n        polygon_features.append(\\n            {\\n                \\\"type\\\": \\\"Feature\\\",\\n                \\\"geometry\\\": {\\\"type\\\": \\\"Polygon\\\", \\\"coordinates\\\": [raw_coordinates]},\\n                \\\"properties\\\": {\\n                    \\\"bagiin_ner\\\": bag_ner,\\n                    \\\"name\\\": nname,\\n                    \\\"ezemshigch\\\": ezemshigch,\\n                    \\\"zoriulal\\\": zoriulalt,\\n                    \\\"hamgaalalt\\\": hamgaalalt,\\n                    \\\"hashlaga\\\": hashlaga,\\n                    \\\"bulgiin_gorim\\\": bulag_gorim,\\n                    \\\"bulgiin_turul\\\": bulag_turul,\\n                    \\\"bulgiin_undarga\\\": bulag_undarga,\\n                    \\\"tailbar\\\": tailbar,\\n                },\\n            }\\n        )\";\n                var nbb_cells = Jupyter.notebook.get_cells();\n                for (var i = 0; i < nbb_cells.length; ++i) {\n                    if (nbb_cells[i].input_prompt_number == nbb_cell_id) {\n                        if (nbb_cells[i].get_text() == nbb_unformatted_code) {\n                             nbb_cells[i].set_text(nbb_formatted_code);\n                        }\n                        break;\n                    }\n                }\n            }, 500);\n            ",
      "text/plain": [
       "<IPython.core.display.Javascript object>"
      ]
     },
     "metadata": {},
     "output_type": "display_data"
    },
    {
     "data": {
      "application/javascript": "\n            setTimeout(function() {\n                var nbb_cell_id = 194;\n                var nbb_unformatted_code = \"points = []\\npolygons = []\\n\\npoint_features = []\\npolygon_features = []\\n\\nfor name, grp in fc_grpd:\\n    if len(grp) == 1:\\n        points.append(grp)\\n        \\n        \\n        for row_ind, row in grp.iterrows():\\n            bag_ner = row[\\\"bagiin_ner\\\"]\\n            nname = row[\\\"bulgiin_ner\\\"]\\n            ezemshigch = row[\\\"ezemshil\\\"]\\n            zoriulalt = row[\\\"zoriulalt\\\"]\\n            hamgaalalt = row[\\\"hamgaalalt\\\"]\\n            hashlaga = row[\\\"hashlagiin_turul_hiits\\\"]\\n            bulag_gorim = row[\\\"bulgiin_gorim\\\"]\\n            bulag_turul = row[\\\"bulgiin_turul\\\"]\\n            bulag_undarga = row[\\\"bulgiin_undarga\\\"]\\n            tailbar = row[\\\"tailbar\\\"]\\n\\n            point_features.append(\\n                {\\n                    \\\"type\\\": \\\"Feature\\\",\\n                    \\\"geometry\\\": {\\n                        \\\"type\\\": \\\"Point\\\",\\n                        \\\"coordinates\\\": [row[\\\"Long\\\"], row[\\\"Lat\\\"]]\\n                    },\\n                    \\\"properties\\\": {\\n                        \\\"bagiin_ner\\\": bag_ner,\\n                        \\\"name\\\": nname,\\n                        \\\"ezemshigch\\\": ezemshigch,\\n                        \\\"zoriulal\\\": zoriulalt,\\n                        \\\"hamgaalalt\\\": hamgaalalt,\\n                        \\\"hashlaga\\\": hashlaga,\\n                        \\\"bulgiin_gorim\\\": bulag_gorim,\\n                        \\\"bulgiin_turul\\\": bulag_turul,\\n                        \\\"bulgiin_undarga\\\": bulag_undarga,\\n                        \\\"tailbar\\\": tailbar\\n                    }\\n                }\\n            )\\n    else:\\n        polygons.append(grp)\\n        raw_coordinates = []\\n        for row_index, row in grp.iterrows():\\n\\n            bag_ner = row[\\\"bagiin_ner\\\"]\\n            nname = row[\\\"bulgiin_ner\\\"]\\n            ezemshigch = row[\\\"ezemshil\\\"]\\n\\n            zoriulalt = row[\\\"zoriulalt\\\"]\\n            hamgaalalt = row[\\\"hamgaalalt\\\"]\\n            hashlaga = row[\\\"hashlagiin_turul_hiits\\\"]\\n            bulag_gorim = row[\\\"bulgiin_gorim\\\"]\\n            bulag_turul = row[\\\"bulgiin_turul\\\"]\\n            bulag_undarga = row[\\\"bulgiin_undarga\\\"]\\n            tailbar = row[\\\"tailbar\\\"]\\n\\n            raw_coordinates.append([row[\\\"Long\\\"], row[\\\"Lat\\\"]])\\n\\n        polygon_features.append(\\n            {\\n                \\\"type\\\": \\\"Feature\\\",\\n                \\\"geometry\\\": {\\n                    \\\"type\\\": \\\"Polygon\\\",\\n                    \\\"coordinates\\\": [raw_coordinates]\\n                },\\n                \\\"properties\\\": {\\n                        \\\"bagiin_ner\\\": bag_ner,\\n                        \\\"name\\\": nname,\\n                        \\\"ezemshigch\\\": ezemshigch,\\n                        \\\"zoriulal\\\": zoriulalt,\\n                        \\\"hamgaalalt\\\": hamgaalalt,\\n                        \\\"hashlaga\\\": hashlaga,\\n                        \\\"bulgiin_gorim\\\": bulag_gorim,\\n                        \\\"bulgiin_turul\\\": bulag_turul,\\n                        \\\"bulgiin_undarga\\\": bulag_undarga,\\n                        \\\"tailbar\\\": tailbar\\n                    }\\n            }\\n        )\";\n                var nbb_formatted_code = \"points = []\\npolygons = []\\n\\npoint_features = []\\npolygon_features = []\\n\\nfor name, grp in fc_grpd:\\n    if len(grp) == 1:\\n        points.append(grp)\\n\\n        for row_ind, row in grp.iterrows():\\n            bag_ner = row[\\\"bagiin_ner\\\"]\\n            nname = row[\\\"bulgiin_ner\\\"]\\n            ezemshigch = row[\\\"ezemshil\\\"]\\n            zoriulalt = row[\\\"zoriulalt\\\"]\\n            hamgaalalt = row[\\\"hamgaalalt\\\"]\\n            hashlaga = row[\\\"hashlagiin_turul_hiits\\\"]\\n            bulag_gorim = row[\\\"bulgiin_gorim\\\"]\\n            bulag_turul = row[\\\"bulgiin_turul\\\"]\\n            bulag_undarga = row[\\\"bulgiin_undarga\\\"]\\n            tailbar = row[\\\"tailbar\\\"]\\n\\n            point_features.append(\\n                {\\n                    \\\"type\\\": \\\"Feature\\\",\\n                    \\\"geometry\\\": {\\n                        \\\"type\\\": \\\"Point\\\",\\n                        \\\"coordinates\\\": [row[\\\"Long\\\"], row[\\\"Lat\\\"]],\\n                    },\\n                    \\\"properties\\\": {\\n                        \\\"bagiin_ner\\\": bag_ner,\\n                        \\\"name\\\": nname,\\n                        \\\"ezemshigch\\\": ezemshigch,\\n                        \\\"zoriulal\\\": zoriulalt,\\n                        \\\"hamgaalalt\\\": hamgaalalt,\\n                        \\\"hashlaga\\\": hashlaga,\\n                        \\\"bulgiin_gorim\\\": bulag_gorim,\\n                        \\\"bulgiin_turul\\\": bulag_turul,\\n                        \\\"bulgiin_undarga\\\": bulag_undarga,\\n                        \\\"tailbar\\\": tailbar,\\n                    },\\n                }\\n            )\\n    else:\\n        polygons.append(grp)\\n        raw_coordinates = []\\n        for row_index, row in grp.iterrows():\\n\\n            bag_ner = row[\\\"bagiin_ner\\\"]\\n            nname = row[\\\"bulgiin_ner\\\"]\\n            ezemshigch = row[\\\"ezemshil\\\"]\\n\\n            zoriulalt = row[\\\"zoriulalt\\\"]\\n            hamgaalalt = row[\\\"hamgaalalt\\\"]\\n            hashlaga = row[\\\"hashlagiin_turul_hiits\\\"]\\n            bulag_gorim = row[\\\"bulgiin_gorim\\\"]\\n            bulag_turul = row[\\\"bulgiin_turul\\\"]\\n            bulag_undarga = row[\\\"bulgiin_undarga\\\"]\\n            tailbar = row[\\\"tailbar\\\"]\\n\\n            raw_coordinates.append([row[\\\"Long\\\"], row[\\\"Lat\\\"]])\\n\\n        polygon_features.append(\\n            {\\n                \\\"type\\\": \\\"Feature\\\",\\n                \\\"geometry\\\": {\\\"type\\\": \\\"Polygon\\\", \\\"coordinates\\\": [raw_coordinates]},\\n                \\\"properties\\\": {\\n                    \\\"bagiin_ner\\\": bag_ner,\\n                    \\\"name\\\": nname,\\n                    \\\"ezemshigch\\\": ezemshigch,\\n                    \\\"zoriulal\\\": zoriulalt,\\n                    \\\"hamgaalalt\\\": hamgaalalt,\\n                    \\\"hashlaga\\\": hashlaga,\\n                    \\\"bulgiin_gorim\\\": bulag_gorim,\\n                    \\\"bulgiin_turul\\\": bulag_turul,\\n                    \\\"bulgiin_undarga\\\": bulag_undarga,\\n                    \\\"tailbar\\\": tailbar,\\n                },\\n            }\\n        )\";\n                var nbb_cells = Jupyter.notebook.get_cells();\n                for (var i = 0; i < nbb_cells.length; ++i) {\n                    if (nbb_cells[i].input_prompt_number == nbb_cell_id) {\n                        if (nbb_cells[i].get_text() == nbb_unformatted_code) {\n                             nbb_cells[i].set_text(nbb_formatted_code);\n                        }\n                        break;\n                    }\n                }\n            }, 500);\n            ",
      "text/plain": [
       "<IPython.core.display.Javascript object>"
      ]
     },
     "metadata": {},
     "output_type": "display_data"
    }
   ],
   "source": [
    "points = []\n",
    "polygons = []\n",
    "\n",
    "point_features = []\n",
    "polygon_features = []\n",
    "\n",
    "for name, grp in fc_grpd:\n",
    "    if len(grp) == 1:\n",
    "        points.append(grp)\n",
    "        \n",
    "        \n",
    "        for row_ind, row in grp.iterrows():\n",
    "            bag_ner = row[\"bagiin_ner\"]\n",
    "            nname = row[\"bulgiin_ner\"]\n",
    "            ezemshigch = row[\"ezemshil\"]\n",
    "            zoriulalt = row[\"zoriulalt\"]\n",
    "            hamgaalalt = row[\"hamgaalalt\"]\n",
    "            hashlaga = row[\"hashlagiin_turul_hiits\"]\n",
    "            bulag_gorim = row[\"bulgiin_gorim\"]\n",
    "            bulag_turul = row[\"bulgiin_turul\"]\n",
    "            bulag_undarga = row[\"bulgiin_undarga\"]\n",
    "            tailbar = row[\"tailbar\"]\n",
    "\n",
    "            point_features.append(\n",
    "                {\n",
    "                    \"type\": \"Feature\",\n",
    "                    \"geometry\": {\n",
    "                        \"type\": \"Point\",\n",
    "                        \"coordinates\": [row[\"Long\"], row[\"Lat\"]]\n",
    "                    },\n",
    "                    \"properties\": {\n",
    "                        \"bagiin_ner\": bag_ner,\n",
    "                        \"name\": nname,\n",
    "                        \"ezemshigch\": ezemshigch,\n",
    "                        \"zoriulal\": zoriulalt,\n",
    "                        \"hamgaalalt\": hamgaalalt,\n",
    "                        \"hashlaga\": hashlaga,\n",
    "                        \"bulgiin_gorim\": bulag_gorim,\n",
    "                        \"bulgiin_turul\": bulag_turul,\n",
    "                        \"bulgiin_undarga\": bulag_undarga,\n",
    "                        \"tailbar\": tailbar\n",
    "                    }\n",
    "                }\n",
    "            )\n",
    "    else:\n",
    "        polygons.append(grp)\n",
    "        raw_coordinates = []\n",
    "        for row_index, row in grp.iterrows():\n",
    "\n",
    "            bag_ner = row[\"bagiin_ner\"]\n",
    "            nname = row[\"bulgiin_ner\"]\n",
    "            ezemshigch = row[\"ezemshil\"]\n",
    "\n",
    "            zoriulalt = row[\"zoriulalt\"]\n",
    "            hamgaalalt = row[\"hamgaalalt\"]\n",
    "            hashlaga = row[\"hashlagiin_turul_hiits\"]\n",
    "            bulag_gorim = row[\"bulgiin_gorim\"]\n",
    "            bulag_turul = row[\"bulgiin_turul\"]\n",
    "            bulag_undarga = row[\"bulgiin_undarga\"]\n",
    "            tailbar = row[\"tailbar\"]\n",
    "\n",
    "            raw_coordinates.append([row[\"Long\"], row[\"Lat\"]])\n",
    "\n",
    "        polygon_features.append(\n",
    "            {\n",
    "                \"type\": \"Feature\",\n",
    "                \"geometry\": {\n",
    "                    \"type\": \"Polygon\",\n",
    "                    \"coordinates\": [raw_coordinates]\n",
    "                },\n",
    "                \"properties\": {\n",
    "                        \"bagiin_ner\": bag_ner,\n",
    "                        \"name\": nname,\n",
    "                        \"ezemshigch\": ezemshigch,\n",
    "                        \"zoriulal\": zoriulalt,\n",
    "                        \"hamgaalalt\": hamgaalalt,\n",
    "                        \"hashlaga\": hashlaga,\n",
    "                        \"bulgiin_gorim\": bulag_gorim,\n",
    "                        \"bulgiin_turul\": bulag_turul,\n",
    "                        \"bulgiin_undarga\": bulag_undarga,\n",
    "                        \"tailbar\": tailbar\n",
    "                    }\n",
    "            }\n",
    "        )"
   ]
  },
  {
   "cell_type": "code",
   "execution_count": 195,
   "metadata": {},
   "outputs": [
    {
     "data": {
      "application/javascript": "\n            setTimeout(function() {\n                var nbb_cell_id = 195;\n                var nbb_unformatted_code = \"pd.concat(points).reset_index(drop=True).to_csv(\\\"bulag_points.csv\\\", encoding=\\\"utf-8\\\", index=False)\";\n                var nbb_formatted_code = \"pd.concat(points).reset_index(drop=True).to_csv(\\n    \\\"bulag_points.csv\\\", encoding=\\\"utf-8\\\", index=False\\n)\";\n                var nbb_cells = Jupyter.notebook.get_cells();\n                for (var i = 0; i < nbb_cells.length; ++i) {\n                    if (nbb_cells[i].input_prompt_number == nbb_cell_id) {\n                        if (nbb_cells[i].get_text() == nbb_unformatted_code) {\n                             nbb_cells[i].set_text(nbb_formatted_code);\n                        }\n                        break;\n                    }\n                }\n            }, 500);\n            ",
      "text/plain": [
       "<IPython.core.display.Javascript object>"
      ]
     },
     "metadata": {},
     "output_type": "display_data"
    },
    {
     "data": {
      "application/javascript": "\n            setTimeout(function() {\n                var nbb_cell_id = 195;\n                var nbb_unformatted_code = \"pd.concat(points).reset_index(drop=True).to_csv(\\\"bulag_points.csv\\\", encoding=\\\"utf-8\\\", index=False)\";\n                var nbb_formatted_code = \"pd.concat(points).reset_index(drop=True).to_csv(\\n    \\\"bulag_points.csv\\\", encoding=\\\"utf-8\\\", index=False\\n)\";\n                var nbb_cells = Jupyter.notebook.get_cells();\n                for (var i = 0; i < nbb_cells.length; ++i) {\n                    if (nbb_cells[i].input_prompt_number == nbb_cell_id) {\n                        if (nbb_cells[i].get_text() == nbb_unformatted_code) {\n                             nbb_cells[i].set_text(nbb_formatted_code);\n                        }\n                        break;\n                    }\n                }\n            }, 500);\n            ",
      "text/plain": [
       "<IPython.core.display.Javascript object>"
      ]
     },
     "metadata": {},
     "output_type": "display_data"
    }
   ],
   "source": [
    "pd.concat(points).reset_index(drop=True).to_csv(\"bulag_points.csv\", encoding=\"utf-8\", index=False)"
   ]
  },
  {
   "cell_type": "code",
   "execution_count": 179,
   "metadata": {},
   "outputs": [
    {
     "data": {
      "application/javascript": "\n            setTimeout(function() {\n                var nbb_cell_id = 179;\n                var nbb_unformatted_code = \"bulag_point_geojson = \\\\\\n{\\n    \\\"type\\\": \\\"FeatureCollection\\\", \\n    \\\"features\\\": point_features\\n}\\n\\nbulag_polygon_geojson = \\\\\\n{\\n    \\\"type\\\": \\\"FeatureCollection\\\", \\n    \\\"features\\\": polygon_features\\n}\";\n                var nbb_formatted_code = \"bulag_point_geojson = {\\\"type\\\": \\\"FeatureCollection\\\", \\\"features\\\": point_features}\\n\\nbulag_polygon_geojson = {\\\"type\\\": \\\"FeatureCollection\\\", \\\"features\\\": polygon_features}\";\n                var nbb_cells = Jupyter.notebook.get_cells();\n                for (var i = 0; i < nbb_cells.length; ++i) {\n                    if (nbb_cells[i].input_prompt_number == nbb_cell_id) {\n                        if (nbb_cells[i].get_text() == nbb_unformatted_code) {\n                             nbb_cells[i].set_text(nbb_formatted_code);\n                        }\n                        break;\n                    }\n                }\n            }, 500);\n            ",
      "text/plain": [
       "<IPython.core.display.Javascript object>"
      ]
     },
     "metadata": {},
     "output_type": "display_data"
    },
    {
     "data": {
      "application/javascript": "\n            setTimeout(function() {\n                var nbb_cell_id = 179;\n                var nbb_unformatted_code = \"bulag_point_geojson = \\\\\\n{\\n    \\\"type\\\": \\\"FeatureCollection\\\", \\n    \\\"features\\\": point_features\\n}\\n\\nbulag_polygon_geojson = \\\\\\n{\\n    \\\"type\\\": \\\"FeatureCollection\\\", \\n    \\\"features\\\": polygon_features\\n}\";\n                var nbb_formatted_code = \"bulag_point_geojson = {\\\"type\\\": \\\"FeatureCollection\\\", \\\"features\\\": point_features}\\n\\nbulag_polygon_geojson = {\\\"type\\\": \\\"FeatureCollection\\\", \\\"features\\\": polygon_features}\";\n                var nbb_cells = Jupyter.notebook.get_cells();\n                for (var i = 0; i < nbb_cells.length; ++i) {\n                    if (nbb_cells[i].input_prompt_number == nbb_cell_id) {\n                        if (nbb_cells[i].get_text() == nbb_unformatted_code) {\n                             nbb_cells[i].set_text(nbb_formatted_code);\n                        }\n                        break;\n                    }\n                }\n            }, 500);\n            ",
      "text/plain": [
       "<IPython.core.display.Javascript object>"
      ]
     },
     "metadata": {},
     "output_type": "display_data"
    }
   ],
   "source": [
    "bulag_point_geojson = \\\n",
    "{\n",
    "    \"type\": \"FeatureCollection\", \n",
    "    \"features\": point_features\n",
    "}\n",
    "\n",
    "bulag_polygon_geojson = \\\n",
    "{\n",
    "    \"type\": \"FeatureCollection\", \n",
    "    \"features\": polygon_features\n",
    "}"
   ]
  },
  {
   "cell_type": "code",
   "execution_count": 180,
   "metadata": {},
   "outputs": [
    {
     "data": {
      "application/javascript": "\n            setTimeout(function() {\n                var nbb_cell_id = 180;\n                var nbb_unformatted_code = \"with open(\\\"bulag_point.geojson\\\", 'w', encoding='utf-8') as f:\\n    json.dump(bulag_point_geojson, f, ensure_ascii=False)\\n\\nwith open(\\\"bulag_polygon.geojson\\\", 'w', encoding='utf-8') as f:\\n    json.dump(bulag_polygon_geojson, f, ensure_ascii=False)\";\n                var nbb_formatted_code = \"with open(\\\"bulag_point.geojson\\\", \\\"w\\\", encoding=\\\"utf-8\\\") as f:\\n    json.dump(bulag_point_geojson, f, ensure_ascii=False)\\n\\nwith open(\\\"bulag_polygon.geojson\\\", \\\"w\\\", encoding=\\\"utf-8\\\") as f:\\n    json.dump(bulag_polygon_geojson, f, ensure_ascii=False)\";\n                var nbb_cells = Jupyter.notebook.get_cells();\n                for (var i = 0; i < nbb_cells.length; ++i) {\n                    if (nbb_cells[i].input_prompt_number == nbb_cell_id) {\n                        if (nbb_cells[i].get_text() == nbb_unformatted_code) {\n                             nbb_cells[i].set_text(nbb_formatted_code);\n                        }\n                        break;\n                    }\n                }\n            }, 500);\n            ",
      "text/plain": [
       "<IPython.core.display.Javascript object>"
      ]
     },
     "metadata": {},
     "output_type": "display_data"
    },
    {
     "data": {
      "application/javascript": "\n            setTimeout(function() {\n                var nbb_cell_id = 180;\n                var nbb_unformatted_code = \"with open(\\\"bulag_point.geojson\\\", 'w', encoding='utf-8') as f:\\n    json.dump(bulag_point_geojson, f, ensure_ascii=False)\\n\\nwith open(\\\"bulag_polygon.geojson\\\", 'w', encoding='utf-8') as f:\\n    json.dump(bulag_polygon_geojson, f, ensure_ascii=False)\";\n                var nbb_formatted_code = \"with open(\\\"bulag_point.geojson\\\", \\\"w\\\", encoding=\\\"utf-8\\\") as f:\\n    json.dump(bulag_point_geojson, f, ensure_ascii=False)\\n\\nwith open(\\\"bulag_polygon.geojson\\\", \\\"w\\\", encoding=\\\"utf-8\\\") as f:\\n    json.dump(bulag_polygon_geojson, f, ensure_ascii=False)\";\n                var nbb_cells = Jupyter.notebook.get_cells();\n                for (var i = 0; i < nbb_cells.length; ++i) {\n                    if (nbb_cells[i].input_prompt_number == nbb_cell_id) {\n                        if (nbb_cells[i].get_text() == nbb_unformatted_code) {\n                             nbb_cells[i].set_text(nbb_formatted_code);\n                        }\n                        break;\n                    }\n                }\n            }, 500);\n            ",
      "text/plain": [
       "<IPython.core.display.Javascript object>"
      ]
     },
     "metadata": {},
     "output_type": "display_data"
    }
   ],
   "source": [
    "with open(\"bulag_point.geojson\", 'w', encoding='utf-8') as f:\n",
    "    json.dump(bulag_point_geojson, f, ensure_ascii=False)\n",
    "\n",
    "with open(\"bulag_polygon.geojson\", 'w', encoding='utf-8') as f:\n",
    "    json.dump(bulag_polygon_geojson, f, ensure_ascii=False)"
   ]
  },
  {
   "cell_type": "markdown",
   "metadata": {},
   "source": [
    "### 5. Polygon creation from string and seperate columns(different sheet)"
   ]
  },
  {
   "cell_type": "code",
   "execution_count": null,
   "metadata": {},
   "outputs": [],
   "source": [
    "fc_df = pd.read_excel(\"source_file.xlsx\", sheet_name=\"gol\")\n",
    "fc_df.info()"
   ]
  },
  {
   "cell_type": "code",
   "execution_count": 198,
   "metadata": {},
   "outputs": [
    {
     "data": {
      "application/javascript": "\n            setTimeout(function() {\n                var nbb_cell_id = 198;\n                var nbb_unformatted_code = \"fc_df[\\\"Lat\\\"] = fc_df[\\\"Xd\\\"] + (fc_df[\\\"Xm\\\"]/60) + (fc_df[\\\"Xs\\\"]/3600)\\nfc_df[\\\"Long\\\"] = fc_df[\\\"Yd\\\"] + (fc_df[\\\"Ym\\\"]/60) + (fc_df[\\\"Ys\\\"]/3600)\";\n                var nbb_formatted_code = \"fc_df[\\\"Lat\\\"] = fc_df[\\\"Xd\\\"] + (fc_df[\\\"Xm\\\"] / 60) + (fc_df[\\\"Xs\\\"] / 3600)\\nfc_df[\\\"Long\\\"] = fc_df[\\\"Yd\\\"] + (fc_df[\\\"Ym\\\"] / 60) + (fc_df[\\\"Ys\\\"] / 3600)\";\n                var nbb_cells = Jupyter.notebook.get_cells();\n                for (var i = 0; i < nbb_cells.length; ++i) {\n                    if (nbb_cells[i].input_prompt_number == nbb_cell_id) {\n                        if (nbb_cells[i].get_text() == nbb_unformatted_code) {\n                             nbb_cells[i].set_text(nbb_formatted_code);\n                        }\n                        break;\n                    }\n                }\n            }, 500);\n            ",
      "text/plain": [
       "<IPython.core.display.Javascript object>"
      ]
     },
     "metadata": {},
     "output_type": "display_data"
    },
    {
     "data": {
      "application/javascript": "\n            setTimeout(function() {\n                var nbb_cell_id = 198;\n                var nbb_unformatted_code = \"fc_df[\\\"Lat\\\"] = fc_df[\\\"Xd\\\"] + (fc_df[\\\"Xm\\\"]/60) + (fc_df[\\\"Xs\\\"]/3600)\\nfc_df[\\\"Long\\\"] = fc_df[\\\"Yd\\\"] + (fc_df[\\\"Ym\\\"]/60) + (fc_df[\\\"Ys\\\"]/3600)\";\n                var nbb_formatted_code = \"fc_df[\\\"Lat\\\"] = fc_df[\\\"Xd\\\"] + (fc_df[\\\"Xm\\\"] / 60) + (fc_df[\\\"Xs\\\"] / 3600)\\nfc_df[\\\"Long\\\"] = fc_df[\\\"Yd\\\"] + (fc_df[\\\"Ym\\\"] / 60) + (fc_df[\\\"Ys\\\"] / 3600)\";\n                var nbb_cells = Jupyter.notebook.get_cells();\n                for (var i = 0; i < nbb_cells.length; ++i) {\n                    if (nbb_cells[i].input_prompt_number == nbb_cell_id) {\n                        if (nbb_cells[i].get_text() == nbb_unformatted_code) {\n                             nbb_cells[i].set_text(nbb_formatted_code);\n                        }\n                        break;\n                    }\n                }\n            }, 500);\n            ",
      "text/plain": [
       "<IPython.core.display.Javascript object>"
      ]
     },
     "metadata": {},
     "output_type": "display_data"
    }
   ],
   "source": [
    "fc_df[\"Lat\"] = fc_df[\"Xd\"] + (fc_df[\"Xm\"]/60) + (fc_df[\"Xs\"]/3600)\n",
    "fc_df[\"Long\"] = fc_df[\"Yd\"] + (fc_df[\"Ym\"]/60) + (fc_df[\"Ys\"]/3600)"
   ]
  },
  {
   "cell_type": "code",
   "execution_count": 201,
   "metadata": {},
   "outputs": [
    {
     "data": {
      "application/javascript": "\n            setTimeout(function() {\n                var nbb_cell_id = 201;\n                var nbb_unformatted_code = \"fc_df.columns = ['dd', 'goliin_ner', 'bairshil', 'Xd', 'Xm', 'Xs', 'Yd', 'Ym', 'Ys', 'H',\\n       'ashiglalt_heregleenii_medeelel', 'ariun_tsever_hamgaalalt',\\n       'goliin_tejeellin_gorim', 'goliin_tsudgadag_gol_murun_nuuriin_ner',\\n       'goliin_gorim', 'tailbar', 'Lat', 'Long']\";\n                var nbb_formatted_code = \"fc_df.columns = [\\n    \\\"dd\\\",\\n    \\\"goliin_ner\\\",\\n    \\\"bairshil\\\",\\n    \\\"Xd\\\",\\n    \\\"Xm\\\",\\n    \\\"Xs\\\",\\n    \\\"Yd\\\",\\n    \\\"Ym\\\",\\n    \\\"Ys\\\",\\n    \\\"H\\\",\\n    \\\"ashiglalt_heregleenii_medeelel\\\",\\n    \\\"ariun_tsever_hamgaalalt\\\",\\n    \\\"goliin_tejeellin_gorim\\\",\\n    \\\"goliin_tsudgadag_gol_murun_nuuriin_ner\\\",\\n    \\\"goliin_gorim\\\",\\n    \\\"tailbar\\\",\\n    \\\"Lat\\\",\\n    \\\"Long\\\",\\n]\";\n                var nbb_cells = Jupyter.notebook.get_cells();\n                for (var i = 0; i < nbb_cells.length; ++i) {\n                    if (nbb_cells[i].input_prompt_number == nbb_cell_id) {\n                        if (nbb_cells[i].get_text() == nbb_unformatted_code) {\n                             nbb_cells[i].set_text(nbb_formatted_code);\n                        }\n                        break;\n                    }\n                }\n            }, 500);\n            ",
      "text/plain": [
       "<IPython.core.display.Javascript object>"
      ]
     },
     "metadata": {},
     "output_type": "display_data"
    },
    {
     "data": {
      "application/javascript": "\n            setTimeout(function() {\n                var nbb_cell_id = 201;\n                var nbb_unformatted_code = \"fc_df.columns = ['dd', 'goliin_ner', 'bairshil', 'Xd', 'Xm', 'Xs', 'Yd', 'Ym', 'Ys', 'H',\\n       'ashiglalt_heregleenii_medeelel', 'ariun_tsever_hamgaalalt',\\n       'goliin_tejeellin_gorim', 'goliin_tsudgadag_gol_murun_nuuriin_ner',\\n       'goliin_gorim', 'tailbar', 'Lat', 'Long']\";\n                var nbb_formatted_code = \"fc_df.columns = [\\n    \\\"dd\\\",\\n    \\\"goliin_ner\\\",\\n    \\\"bairshil\\\",\\n    \\\"Xd\\\",\\n    \\\"Xm\\\",\\n    \\\"Xs\\\",\\n    \\\"Yd\\\",\\n    \\\"Ym\\\",\\n    \\\"Ys\\\",\\n    \\\"H\\\",\\n    \\\"ashiglalt_heregleenii_medeelel\\\",\\n    \\\"ariun_tsever_hamgaalalt\\\",\\n    \\\"goliin_tejeellin_gorim\\\",\\n    \\\"goliin_tsudgadag_gol_murun_nuuriin_ner\\\",\\n    \\\"goliin_gorim\\\",\\n    \\\"tailbar\\\",\\n    \\\"Lat\\\",\\n    \\\"Long\\\",\\n]\";\n                var nbb_cells = Jupyter.notebook.get_cells();\n                for (var i = 0; i < nbb_cells.length; ++i) {\n                    if (nbb_cells[i].input_prompt_number == nbb_cell_id) {\n                        if (nbb_cells[i].get_text() == nbb_unformatted_code) {\n                             nbb_cells[i].set_text(nbb_formatted_code);\n                        }\n                        break;\n                    }\n                }\n            }, 500);\n            ",
      "text/plain": [
       "<IPython.core.display.Javascript object>"
      ]
     },
     "metadata": {},
     "output_type": "display_data"
    }
   ],
   "source": [
    "fc_df.columns = ['dd', 'goliin_ner', 'bairshil', 'Xd', 'Xm', 'Xs', 'Yd', 'Ym', 'Ys', 'H',\n",
    "       'ashiglalt_heregleenii_medeelel', 'ariun_tsever_hamgaalalt',\n",
    "       'goliin_tejeellin_gorim', 'goliin_tsudgadag_gol_murun_nuuriin_ner',\n",
    "       'goliin_gorim', 'tailbar', 'Lat', 'Long'"
   ]
  },
  {
   "cell_type": "code",
   "execution_count": 202,
   "metadata": {},
   "outputs": [
    {
     "data": {
      "application/javascript": "\n            setTimeout(function() {\n                var nbb_cell_id = 202;\n                var nbb_unformatted_code = \"fc_grpd = fc_df.groupby(\\\"goliin_ner\\\")\";\n                var nbb_formatted_code = \"fc_grpd = fc_df.groupby(\\\"goliin_ner\\\")\";\n                var nbb_cells = Jupyter.notebook.get_cells();\n                for (var i = 0; i < nbb_cells.length; ++i) {\n                    if (nbb_cells[i].input_prompt_number == nbb_cell_id) {\n                        if (nbb_cells[i].get_text() == nbb_unformatted_code) {\n                             nbb_cells[i].set_text(nbb_formatted_code);\n                        }\n                        break;\n                    }\n                }\n            }, 500);\n            ",
      "text/plain": [
       "<IPython.core.display.Javascript object>"
      ]
     },
     "metadata": {},
     "output_type": "display_data"
    },
    {
     "data": {
      "application/javascript": "\n            setTimeout(function() {\n                var nbb_cell_id = 202;\n                var nbb_unformatted_code = \"fc_grpd = fc_df.groupby(\\\"goliin_ner\\\")\";\n                var nbb_formatted_code = \"fc_grpd = fc_df.groupby(\\\"goliin_ner\\\")\";\n                var nbb_cells = Jupyter.notebook.get_cells();\n                for (var i = 0; i < nbb_cells.length; ++i) {\n                    if (nbb_cells[i].input_prompt_number == nbb_cell_id) {\n                        if (nbb_cells[i].get_text() == nbb_unformatted_code) {\n                             nbb_cells[i].set_text(nbb_formatted_code);\n                        }\n                        break;\n                    }\n                }\n            }, 500);\n            ",
      "text/plain": [
       "<IPython.core.display.Javascript object>"
      ]
     },
     "metadata": {},
     "output_type": "display_data"
    }
   ],
   "source": [
    "fc_grpd = fc_df.groupby(\"goliin_ner\")"
   ]
  },
  {
   "cell_type": "code",
   "execution_count": 204,
   "metadata": {},
   "outputs": [
    {
     "data": {
      "application/javascript": "\n            setTimeout(function() {\n                var nbb_cell_id = 204;\n                var nbb_unformatted_code = \"points = []\\npolygons = []\\n\\npoint_features = []\\npolygon_features = []\\n\\nfor name, grp in fc_grpd:\\n    if len(grp) == 1:\\n        points.append(grp)\\n        \\n        \\n        for row_ind, row in grp.iterrows():\\n            nname = row[\\\"goliin_ner\\\"]\\n            bairshil = row[\\\"bairshil\\\"]\\n            hereglee = row[\\\"ashiglalt_heregleenii_medeelel\\\"]\\n            hamgaalalt = row[\\\"ariun_tsever_hamgaalalt\\\"]\\n            #hashlaga = row[\\\"hashlagiin_turul_hiits\\\"]\\n            tejeeliin_gorim = row[\\\"goliin_tejeellin_gorim\\\"]\\n            gol_tsutgal = row[\\\"goliin_tsudgadag_gol_murun_nuuriin_ner\\\"]\\n            goliin_gorim = row[\\\"goliin_gorim\\\"]\\n            tailbar = row[\\\"tailbar\\\"]\\n\\n            point_features.append(\\n                {\\n                    \\\"type\\\": \\\"Feature\\\",\\n                    \\\"geometry\\\": {\\n                        \\\"type\\\": \\\"Point\\\",\\n                        \\\"coordinates\\\": [row[\\\"Long\\\"], row[\\\"Lat\\\"]]\\n                    },\\n                    \\\"properties\\\": {\\n                        \\\"name\\\": nname,\\n                        \\\"bairshil\\\": bairshil,\\n                        \\\"hereglee\\\": hereglee,\\n                        \\\"hamgaalalt\\\": hamgaalalt,\\n                        #\\\"hashlaga\\\": hashlaga,\\n                        \\\"tejeeliin_gorim\\\": tejeeliin_gorim,\\n                        \\\"gol_tsutgal\\\": gol_tsutgal,\\n                        \\\"goliin_gorim\\\": goliin_gorim,\\n                        \\\"tailbar\\\": tailbar\\n                    }\\n                }\\n            )\\n    else:\\n        polygons.append(grp)\\n        raw_coordinates = []\\n        for row_index, row in grp.iterrows():\\n\\n            nname = row[\\\"goliin_ner\\\"]\\n            bairshil = row[\\\"bairshil\\\"]\\n            hereglee = row[\\\"ashiglalt_heregleenii_medeelel\\\"]\\n            hamgaalalt = row[\\\"ariun_tsever_hamgaalalt\\\"]\\n            #hashlaga = row[\\\"hashlagiin_turul_hiits\\\"]\\n            tejeeliin_gorim = row[\\\"goliin_tejeellin_gorim\\\"]\\n            gol_tsutgal = row[\\\"goliin_tsudgadag_gol_murun_nuuriin_ner\\\"]\\n            goliin_gorim = row[\\\"goliin_gorim\\\"]\\n            tailbar = row[\\\"tailbar\\\"]\\n\\n            raw_coordinates.append([row[\\\"Long\\\"], row[\\\"Lat\\\"]])\\n\\n        polygon_features.append(\\n            {\\n                \\\"type\\\": \\\"Feature\\\",\\n                \\\"geometry\\\": {\\n                    \\\"type\\\": \\\"Polygon\\\",\\n                    \\\"coordinates\\\": [raw_coordinates]\\n                },\\n                \\\"properties\\\": {\\n                        \\\"name\\\": nname,\\n                        \\\"bairshil\\\": bairshil,\\n                        \\\"hereglee\\\": hereglee,\\n                        \\\"hamgaalalt\\\": hamgaalalt,\\n                        #\\\"hashlaga\\\": hashlaga,\\n                        \\\"tejeeliin_gorim\\\": tejeeliin_gorim,\\n                        \\\"gol_tsutgal\\\": gol_tsutgal,\\n                        \\\"goliin_gorim\\\": goliin_gorim,\\n                        \\\"tailbar\\\": tailbar\\n                    }\\n            }\\n        )\";\n                var nbb_formatted_code = \"points = []\\npolygons = []\\n\\npoint_features = []\\npolygon_features = []\\n\\nfor name, grp in fc_grpd:\\n    if len(grp) == 1:\\n        points.append(grp)\\n\\n        for row_ind, row in grp.iterrows():\\n            nname = row[\\\"goliin_ner\\\"]\\n            bairshil = row[\\\"bairshil\\\"]\\n            hereglee = row[\\\"ashiglalt_heregleenii_medeelel\\\"]\\n            hamgaalalt = row[\\\"ariun_tsever_hamgaalalt\\\"]\\n            # hashlaga = row[\\\"hashlagiin_turul_hiits\\\"]\\n            tejeeliin_gorim = row[\\\"goliin_tejeellin_gorim\\\"]\\n            gol_tsutgal = row[\\\"goliin_tsudgadag_gol_murun_nuuriin_ner\\\"]\\n            goliin_gorim = row[\\\"goliin_gorim\\\"]\\n            tailbar = row[\\\"tailbar\\\"]\\n\\n            point_features.append(\\n                {\\n                    \\\"type\\\": \\\"Feature\\\",\\n                    \\\"geometry\\\": {\\n                        \\\"type\\\": \\\"Point\\\",\\n                        \\\"coordinates\\\": [row[\\\"Long\\\"], row[\\\"Lat\\\"]],\\n                    },\\n                    \\\"properties\\\": {\\n                        \\\"name\\\": nname,\\n                        \\\"bairshil\\\": bairshil,\\n                        \\\"hereglee\\\": hereglee,\\n                        \\\"hamgaalalt\\\": hamgaalalt,\\n                        # \\\"hashlaga\\\": hashlaga,\\n                        \\\"tejeeliin_gorim\\\": tejeeliin_gorim,\\n                        \\\"gol_tsutgal\\\": gol_tsutgal,\\n                        \\\"goliin_gorim\\\": goliin_gorim,\\n                        \\\"tailbar\\\": tailbar,\\n                    },\\n                }\\n            )\\n    else:\\n        polygons.append(grp)\\n        raw_coordinates = []\\n        for row_index, row in grp.iterrows():\\n\\n            nname = row[\\\"goliin_ner\\\"]\\n            bairshil = row[\\\"bairshil\\\"]\\n            hereglee = row[\\\"ashiglalt_heregleenii_medeelel\\\"]\\n            hamgaalalt = row[\\\"ariun_tsever_hamgaalalt\\\"]\\n            # hashlaga = row[\\\"hashlagiin_turul_hiits\\\"]\\n            tejeeliin_gorim = row[\\\"goliin_tejeellin_gorim\\\"]\\n            gol_tsutgal = row[\\\"goliin_tsudgadag_gol_murun_nuuriin_ner\\\"]\\n            goliin_gorim = row[\\\"goliin_gorim\\\"]\\n            tailbar = row[\\\"tailbar\\\"]\\n\\n            raw_coordinates.append([row[\\\"Long\\\"], row[\\\"Lat\\\"]])\\n\\n        polygon_features.append(\\n            {\\n                \\\"type\\\": \\\"Feature\\\",\\n                \\\"geometry\\\": {\\\"type\\\": \\\"Polygon\\\", \\\"coordinates\\\": [raw_coordinates]},\\n                \\\"properties\\\": {\\n                    \\\"name\\\": nname,\\n                    \\\"bairshil\\\": bairshil,\\n                    \\\"hereglee\\\": hereglee,\\n                    \\\"hamgaalalt\\\": hamgaalalt,\\n                    # \\\"hashlaga\\\": hashlaga,\\n                    \\\"tejeeliin_gorim\\\": tejeeliin_gorim,\\n                    \\\"gol_tsutgal\\\": gol_tsutgal,\\n                    \\\"goliin_gorim\\\": goliin_gorim,\\n                    \\\"tailbar\\\": tailbar,\\n                },\\n            }\\n        )\";\n                var nbb_cells = Jupyter.notebook.get_cells();\n                for (var i = 0; i < nbb_cells.length; ++i) {\n                    if (nbb_cells[i].input_prompt_number == nbb_cell_id) {\n                        if (nbb_cells[i].get_text() == nbb_unformatted_code) {\n                             nbb_cells[i].set_text(nbb_formatted_code);\n                        }\n                        break;\n                    }\n                }\n            }, 500);\n            ",
      "text/plain": [
       "<IPython.core.display.Javascript object>"
      ]
     },
     "metadata": {},
     "output_type": "display_data"
    },
    {
     "data": {
      "application/javascript": "\n            setTimeout(function() {\n                var nbb_cell_id = 204;\n                var nbb_unformatted_code = \"points = []\\npolygons = []\\n\\npoint_features = []\\npolygon_features = []\\n\\nfor name, grp in fc_grpd:\\n    if len(grp) == 1:\\n        points.append(grp)\\n        \\n        \\n        for row_ind, row in grp.iterrows():\\n            nname = row[\\\"goliin_ner\\\"]\\n            bairshil = row[\\\"bairshil\\\"]\\n            hereglee = row[\\\"ashiglalt_heregleenii_medeelel\\\"]\\n            hamgaalalt = row[\\\"ariun_tsever_hamgaalalt\\\"]\\n            #hashlaga = row[\\\"hashlagiin_turul_hiits\\\"]\\n            tejeeliin_gorim = row[\\\"goliin_tejeellin_gorim\\\"]\\n            gol_tsutgal = row[\\\"goliin_tsudgadag_gol_murun_nuuriin_ner\\\"]\\n            goliin_gorim = row[\\\"goliin_gorim\\\"]\\n            tailbar = row[\\\"tailbar\\\"]\\n\\n            point_features.append(\\n                {\\n                    \\\"type\\\": \\\"Feature\\\",\\n                    \\\"geometry\\\": {\\n                        \\\"type\\\": \\\"Point\\\",\\n                        \\\"coordinates\\\": [row[\\\"Long\\\"], row[\\\"Lat\\\"]]\\n                    },\\n                    \\\"properties\\\": {\\n                        \\\"name\\\": nname,\\n                        \\\"bairshil\\\": bairshil,\\n                        \\\"hereglee\\\": hereglee,\\n                        \\\"hamgaalalt\\\": hamgaalalt,\\n                        #\\\"hashlaga\\\": hashlaga,\\n                        \\\"tejeeliin_gorim\\\": tejeeliin_gorim,\\n                        \\\"gol_tsutgal\\\": gol_tsutgal,\\n                        \\\"goliin_gorim\\\": goliin_gorim,\\n                        \\\"tailbar\\\": tailbar\\n                    }\\n                }\\n            )\\n    else:\\n        polygons.append(grp)\\n        raw_coordinates = []\\n        for row_index, row in grp.iterrows():\\n\\n            nname = row[\\\"goliin_ner\\\"]\\n            bairshil = row[\\\"bairshil\\\"]\\n            hereglee = row[\\\"ashiglalt_heregleenii_medeelel\\\"]\\n            hamgaalalt = row[\\\"ariun_tsever_hamgaalalt\\\"]\\n            #hashlaga = row[\\\"hashlagiin_turul_hiits\\\"]\\n            tejeeliin_gorim = row[\\\"goliin_tejeellin_gorim\\\"]\\n            gol_tsutgal = row[\\\"goliin_tsudgadag_gol_murun_nuuriin_ner\\\"]\\n            goliin_gorim = row[\\\"goliin_gorim\\\"]\\n            tailbar = row[\\\"tailbar\\\"]\\n\\n            raw_coordinates.append([row[\\\"Long\\\"], row[\\\"Lat\\\"]])\\n\\n        polygon_features.append(\\n            {\\n                \\\"type\\\": \\\"Feature\\\",\\n                \\\"geometry\\\": {\\n                    \\\"type\\\": \\\"Polygon\\\",\\n                    \\\"coordinates\\\": [raw_coordinates]\\n                },\\n                \\\"properties\\\": {\\n                        \\\"name\\\": nname,\\n                        \\\"bairshil\\\": bairshil,\\n                        \\\"hereglee\\\": hereglee,\\n                        \\\"hamgaalalt\\\": hamgaalalt,\\n                        #\\\"hashlaga\\\": hashlaga,\\n                        \\\"tejeeliin_gorim\\\": tejeeliin_gorim,\\n                        \\\"gol_tsutgal\\\": gol_tsutgal,\\n                        \\\"goliin_gorim\\\": goliin_gorim,\\n                        \\\"tailbar\\\": tailbar\\n                    }\\n            }\\n        )\";\n                var nbb_formatted_code = \"points = []\\npolygons = []\\n\\npoint_features = []\\npolygon_features = []\\n\\nfor name, grp in fc_grpd:\\n    if len(grp) == 1:\\n        points.append(grp)\\n\\n        for row_ind, row in grp.iterrows():\\n            nname = row[\\\"goliin_ner\\\"]\\n            bairshil = row[\\\"bairshil\\\"]\\n            hereglee = row[\\\"ashiglalt_heregleenii_medeelel\\\"]\\n            hamgaalalt = row[\\\"ariun_tsever_hamgaalalt\\\"]\\n            # hashlaga = row[\\\"hashlagiin_turul_hiits\\\"]\\n            tejeeliin_gorim = row[\\\"goliin_tejeellin_gorim\\\"]\\n            gol_tsutgal = row[\\\"goliin_tsudgadag_gol_murun_nuuriin_ner\\\"]\\n            goliin_gorim = row[\\\"goliin_gorim\\\"]\\n            tailbar = row[\\\"tailbar\\\"]\\n\\n            point_features.append(\\n                {\\n                    \\\"type\\\": \\\"Feature\\\",\\n                    \\\"geometry\\\": {\\n                        \\\"type\\\": \\\"Point\\\",\\n                        \\\"coordinates\\\": [row[\\\"Long\\\"], row[\\\"Lat\\\"]],\\n                    },\\n                    \\\"properties\\\": {\\n                        \\\"name\\\": nname,\\n                        \\\"bairshil\\\": bairshil,\\n                        \\\"hereglee\\\": hereglee,\\n                        \\\"hamgaalalt\\\": hamgaalalt,\\n                        # \\\"hashlaga\\\": hashlaga,\\n                        \\\"tejeeliin_gorim\\\": tejeeliin_gorim,\\n                        \\\"gol_tsutgal\\\": gol_tsutgal,\\n                        \\\"goliin_gorim\\\": goliin_gorim,\\n                        \\\"tailbar\\\": tailbar,\\n                    },\\n                }\\n            )\\n    else:\\n        polygons.append(grp)\\n        raw_coordinates = []\\n        for row_index, row in grp.iterrows():\\n\\n            nname = row[\\\"goliin_ner\\\"]\\n            bairshil = row[\\\"bairshil\\\"]\\n            hereglee = row[\\\"ashiglalt_heregleenii_medeelel\\\"]\\n            hamgaalalt = row[\\\"ariun_tsever_hamgaalalt\\\"]\\n            # hashlaga = row[\\\"hashlagiin_turul_hiits\\\"]\\n            tejeeliin_gorim = row[\\\"goliin_tejeellin_gorim\\\"]\\n            gol_tsutgal = row[\\\"goliin_tsudgadag_gol_murun_nuuriin_ner\\\"]\\n            goliin_gorim = row[\\\"goliin_gorim\\\"]\\n            tailbar = row[\\\"tailbar\\\"]\\n\\n            raw_coordinates.append([row[\\\"Long\\\"], row[\\\"Lat\\\"]])\\n\\n        polygon_features.append(\\n            {\\n                \\\"type\\\": \\\"Feature\\\",\\n                \\\"geometry\\\": {\\\"type\\\": \\\"Polygon\\\", \\\"coordinates\\\": [raw_coordinates]},\\n                \\\"properties\\\": {\\n                    \\\"name\\\": nname,\\n                    \\\"bairshil\\\": bairshil,\\n                    \\\"hereglee\\\": hereglee,\\n                    \\\"hamgaalalt\\\": hamgaalalt,\\n                    # \\\"hashlaga\\\": hashlaga,\\n                    \\\"tejeeliin_gorim\\\": tejeeliin_gorim,\\n                    \\\"gol_tsutgal\\\": gol_tsutgal,\\n                    \\\"goliin_gorim\\\": goliin_gorim,\\n                    \\\"tailbar\\\": tailbar,\\n                },\\n            }\\n        )\";\n                var nbb_cells = Jupyter.notebook.get_cells();\n                for (var i = 0; i < nbb_cells.length; ++i) {\n                    if (nbb_cells[i].input_prompt_number == nbb_cell_id) {\n                        if (nbb_cells[i].get_text() == nbb_unformatted_code) {\n                             nbb_cells[i].set_text(nbb_formatted_code);\n                        }\n                        break;\n                    }\n                }\n            }, 500);\n            ",
      "text/plain": [
       "<IPython.core.display.Javascript object>"
      ]
     },
     "metadata": {},
     "output_type": "display_data"
    }
   ],
   "source": [
    "points = []\n",
    "polygons = []\n",
    "\n",
    "point_features = []\n",
    "polygon_features = []\n",
    "\n",
    "for name, grp in fc_grpd:\n",
    "    if len(grp) == 1:\n",
    "        points.append(grp)\n",
    "        \n",
    "        \n",
    "        for row_ind, row in grp.iterrows():\n",
    "            nname = row[\"goliin_ner\"]\n",
    "            bairshil = row[\"bairshil\"]\n",
    "            hereglee = row[\"ashiglalt_heregleenii_medeelel\"]\n",
    "            hamgaalalt = row[\"ariun_tsever_hamgaalalt\"]\n",
    "            #hashlaga = row[\"hashlagiin_turul_hiits\"]\n",
    "            tejeeliin_gorim = row[\"goliin_tejeellin_gorim\"]\n",
    "            gol_tsutgal = row[\"goliin_tsudgadag_gol_murun_nuuriin_ner\"]\n",
    "            goliin_gorim = row[\"goliin_gorim\"]\n",
    "            tailbar = row[\"tailbar\"]\n",
    "\n",
    "            point_features.append(\n",
    "                {\n",
    "                    \"type\": \"Feature\",\n",
    "                    \"geometry\": {\n",
    "                        \"type\": \"Point\",\n",
    "                        \"coordinates\": [row[\"Long\"], row[\"Lat\"]]\n",
    "                    },\n",
    "                    \"properties\": {\n",
    "                        \"name\": nname,\n",
    "                        \"bairshil\": bairshil,\n",
    "                        \"hereglee\": hereglee,\n",
    "                        \"hamgaalalt\": hamgaalalt,\n",
    "                        #\"hashlaga\": hashlaga,\n",
    "                        \"tejeeliin_gorim\": tejeeliin_gorim,\n",
    "                        \"gol_tsutgal\": gol_tsutgal,\n",
    "                        \"goliin_gorim\": goliin_gorim,\n",
    "                        \"tailbar\": tailbar\n",
    "                    }\n",
    "                }\n",
    "            )\n",
    "    else:\n",
    "        polygons.append(grp)\n",
    "        raw_coordinates = []\n",
    "        for row_index, row in grp.iterrows():\n",
    "\n",
    "            nname = row[\"goliin_ner\"]\n",
    "            bairshil = row[\"bairshil\"]\n",
    "            hereglee = row[\"ashiglalt_heregleenii_medeelel\"]\n",
    "            hamgaalalt = row[\"ariun_tsever_hamgaalalt\"]\n",
    "            #hashlaga = row[\"hashlagiin_turul_hiits\"]\n",
    "            tejeeliin_gorim = row[\"goliin_tejeellin_gorim\"]\n",
    "            gol_tsutgal = row[\"goliin_tsudgadag_gol_murun_nuuriin_ner\"]\n",
    "            goliin_gorim = row[\"goliin_gorim\"]\n",
    "            tailbar = row[\"tailbar\"]\n",
    "\n",
    "            raw_coordinates.append([row[\"Long\"], row[\"Lat\"]])\n",
    "\n",
    "        polygon_features.append(\n",
    "            {\n",
    "                \"type\": \"Feature\",\n",
    "                \"geometry\": {\n",
    "                    \"type\": \"Polygon\",\n",
    "                    \"coordinates\": [raw_coordinates]\n",
    "                },\n",
    "                \"properties\": {\n",
    "                        \"name\": nname,\n",
    "                        \"bairshil\": bairshil,\n",
    "                        \"hereglee\": hereglee,\n",
    "                        \"hamgaalalt\": hamgaalalt,\n",
    "                        #\"hashlaga\": hashlaga,\n",
    "                        \"tejeeliin_gorim\": tejeeliin_gorim,\n",
    "                        \"gol_tsutgal\": gol_tsutgal,\n",
    "                        \"goliin_gorim\": goliin_gorim,\n",
    "                        \"tailbar\": tailbar\n",
    "                    }\n",
    "            }\n",
    "        )"
   ]
  },
  {
   "cell_type": "code",
   "execution_count": 206,
   "metadata": {},
   "outputs": [
    {
     "data": {
      "application/javascript": "\n            setTimeout(function() {\n                var nbb_cell_id = 206;\n                var nbb_unformatted_code = \"gol_point_geojson = \\\\\\n{\\n    \\\"type\\\": \\\"FeatureCollection\\\", \\n    \\\"features\\\": point_features\\n}\\n\\ngol_polygon_geojson = \\\\\\n{\\n    \\\"type\\\": \\\"FeatureCollection\\\", \\n    \\\"features\\\": polygon_features\\n}\";\n                var nbb_formatted_code = \"gol_point_geojson = {\\\"type\\\": \\\"FeatureCollection\\\", \\\"features\\\": point_features}\\n\\ngol_polygon_geojson = {\\\"type\\\": \\\"FeatureCollection\\\", \\\"features\\\": polygon_features}\";\n                var nbb_cells = Jupyter.notebook.get_cells();\n                for (var i = 0; i < nbb_cells.length; ++i) {\n                    if (nbb_cells[i].input_prompt_number == nbb_cell_id) {\n                        if (nbb_cells[i].get_text() == nbb_unformatted_code) {\n                             nbb_cells[i].set_text(nbb_formatted_code);\n                        }\n                        break;\n                    }\n                }\n            }, 500);\n            ",
      "text/plain": [
       "<IPython.core.display.Javascript object>"
      ]
     },
     "metadata": {},
     "output_type": "display_data"
    },
    {
     "data": {
      "application/javascript": "\n            setTimeout(function() {\n                var nbb_cell_id = 206;\n                var nbb_unformatted_code = \"gol_point_geojson = \\\\\\n{\\n    \\\"type\\\": \\\"FeatureCollection\\\", \\n    \\\"features\\\": point_features\\n}\\n\\ngol_polygon_geojson = \\\\\\n{\\n    \\\"type\\\": \\\"FeatureCollection\\\", \\n    \\\"features\\\": polygon_features\\n}\";\n                var nbb_formatted_code = \"gol_point_geojson = {\\\"type\\\": \\\"FeatureCollection\\\", \\\"features\\\": point_features}\\n\\ngol_polygon_geojson = {\\\"type\\\": \\\"FeatureCollection\\\", \\\"features\\\": polygon_features}\";\n                var nbb_cells = Jupyter.notebook.get_cells();\n                for (var i = 0; i < nbb_cells.length; ++i) {\n                    if (nbb_cells[i].input_prompt_number == nbb_cell_id) {\n                        if (nbb_cells[i].get_text() == nbb_unformatted_code) {\n                             nbb_cells[i].set_text(nbb_formatted_code);\n                        }\n                        break;\n                    }\n                }\n            }, 500);\n            ",
      "text/plain": [
       "<IPython.core.display.Javascript object>"
      ]
     },
     "metadata": {},
     "output_type": "display_data"
    }
   ],
   "source": [
    "gol_point_geojson = \\\n",
    "{\n",
    "    \"type\": \"FeatureCollection\", \n",
    "    \"features\": point_features\n",
    "}\n",
    "\n",
    "gol_polygon_geojson = \\\n",
    "{\n",
    "    \"type\": \"FeatureCollection\", \n",
    "    \"features\": polygon_features\n",
    "}"
   ]
  },
  {
   "cell_type": "code",
   "execution_count": 207,
   "metadata": {},
   "outputs": [
    {
     "data": {
      "application/javascript": "\n            setTimeout(function() {\n                var nbb_cell_id = 207;\n                var nbb_unformatted_code = \"with open(\\\"gol_point.geojson\\\", 'w', encoding='utf-8') as f:\\n    json.dump(gol_point_geojson, f, ensure_ascii=False)\\n\\nwith open(\\\"gol_polygon.geojson\\\", 'w', encoding='utf-8') as f:\\n    json.dump(gol_polygon_geojson, f, ensure_ascii=False)\";\n                var nbb_formatted_code = \"with open(\\\"gol_point.geojson\\\", \\\"w\\\", encoding=\\\"utf-8\\\") as f:\\n    json.dump(gol_point_geojson, f, ensure_ascii=False)\\n\\nwith open(\\\"gol_polygon.geojson\\\", \\\"w\\\", encoding=\\\"utf-8\\\") as f:\\n    json.dump(gol_polygon_geojson, f, ensure_ascii=False)\";\n                var nbb_cells = Jupyter.notebook.get_cells();\n                for (var i = 0; i < nbb_cells.length; ++i) {\n                    if (nbb_cells[i].input_prompt_number == nbb_cell_id) {\n                        if (nbb_cells[i].get_text() == nbb_unformatted_code) {\n                             nbb_cells[i].set_text(nbb_formatted_code);\n                        }\n                        break;\n                    }\n                }\n            }, 500);\n            ",
      "text/plain": [
       "<IPython.core.display.Javascript object>"
      ]
     },
     "metadata": {},
     "output_type": "display_data"
    },
    {
     "data": {
      "application/javascript": "\n            setTimeout(function() {\n                var nbb_cell_id = 207;\n                var nbb_unformatted_code = \"with open(\\\"gol_point.geojson\\\", 'w', encoding='utf-8') as f:\\n    json.dump(gol_point_geojson, f, ensure_ascii=False)\\n\\nwith open(\\\"gol_polygon.geojson\\\", 'w', encoding='utf-8') as f:\\n    json.dump(gol_polygon_geojson, f, ensure_ascii=False)\";\n                var nbb_formatted_code = \"with open(\\\"gol_point.geojson\\\", \\\"w\\\", encoding=\\\"utf-8\\\") as f:\\n    json.dump(gol_point_geojson, f, ensure_ascii=False)\\n\\nwith open(\\\"gol_polygon.geojson\\\", \\\"w\\\", encoding=\\\"utf-8\\\") as f:\\n    json.dump(gol_polygon_geojson, f, ensure_ascii=False)\";\n                var nbb_cells = Jupyter.notebook.get_cells();\n                for (var i = 0; i < nbb_cells.length; ++i) {\n                    if (nbb_cells[i].input_prompt_number == nbb_cell_id) {\n                        if (nbb_cells[i].get_text() == nbb_unformatted_code) {\n                             nbb_cells[i].set_text(nbb_formatted_code);\n                        }\n                        break;\n                    }\n                }\n            }, 500);\n            ",
      "text/plain": [
       "<IPython.core.display.Javascript object>"
      ]
     },
     "metadata": {},
     "output_type": "display_data"
    }
   ],
   "source": [
    "with open(\"gol_point.geojson\", 'w', encoding='utf-8') as f:\n",
    "    json.dump(gol_point_geojson, f, ensure_ascii=False)\n",
    "\n",
    "with open(\"gol_polygon.geojson\", 'w', encoding='utf-8') as f:\n",
    "    json.dump(gol_polygon_geojson, f, ensure_ascii=False)"
   ]
  },
  {
   "cell_type": "code",
   "execution_count": null,
   "metadata": {},
   "outputs": [],
   "source": []
  }
 ],
 "metadata": {
  "interpreter": {
   "hash": "931a019493431a94dd3a5be5d06b29caf3bb2aea8d1a56d781668d8809ea5201"
  },
  "kernelspec": {
   "display_name": "Python 3.9.6 64-bit ('soe': conda)",
   "language": "python",
   "name": "python3"
  },
  "language_info": {
   "codemirror_mode": {
    "name": "ipython",
    "version": 3
   },
   "file_extension": ".py",
   "mimetype": "text/x-python",
   "name": "python",
   "nbconvert_exporter": "python",
   "pygments_lexer": "ipython3",
   "version": "3.9.6"
  },
  "orig_nbformat": 4
 },
 "nbformat": 4,
 "nbformat_minor": 2
}
